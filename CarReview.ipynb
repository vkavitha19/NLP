{
  "cells": [
    {
      "cell_type": "code",
      "execution_count": null,
      "id": "3924d3e6",
      "metadata": {
        "id": "3924d3e6"
      },
      "outputs": [],
      "source": [
        "from bs4 import BeautifulSoup\n",
        "from urllib.request import Request, urlopen\n",
        "import re\n",
        "import pandas as pd\n",
        "import numpy as np\n",
        "import nltk\n",
        "import torch\n",
        "from scipy.special import softmax"
      ]
    },
    {
      "cell_type": "markdown",
      "id": "5a896887",
      "metadata": {
        "id": "5a896887"
      },
      "source": [
        "# Range / Mileage"
      ]
    },
    {
      "cell_type": "code",
      "execution_count": null,
      "id": "32a7b802",
      "metadata": {
        "id": "32a7b802"
      },
      "outputs": [],
      "source": [
        "# link of the car review from cardeko\n",
        "car={1:\"https://www.cardekho.com/tata/nexon-ev-prime/user-reviews\",\n",
        "    2:\"https://www.cardekho.com/hyundai/kona/user-reviews\",\n",
        "    3:\"https://www.cardekho.com/tata/tiago-ev/user-reviews\",\n",
        "    4:\"https://www.cardekho.com/mahindra/xuv400-ev/user-reviews\",\n",
        "    5:\"https://www.cardekho.com/mahindra/xuv400-ev/user-reviews\"}"
      ]
    },
    {
      "cell_type": "code",
      "execution_count": null,
      "id": "f8e45f06",
      "metadata": {
        "id": "f8e45f06"
      },
      "outputs": [],
      "source": [
        "# link of the car review from zigwheels\n",
        "car1={1:\"https://www.zigwheels.com/user-reviews/Tata/nexon-ev-prime\",\n",
        "     2:\"https://www.zigwheels.com/user-reviews/Hyundai/kona\",\n",
        "     3:\"https://www.zigwheels.com/user-reviews/Tata/tiago-ev\",\n",
        "     4:\"https://www.zigwheels.com/user-reviews/Mahindra/xuv400-ev\"}"
      ]
    },
    {
      "cell_type": "code",
      "execution_count": null,
      "id": "e68efbcd",
      "metadata": {
        "id": "e68efbcd"
      },
      "outputs": [],
      "source": [
        "# link of the car review from team-bhp\n",
        "car2={1:\"https://www.team-bhp.com/forum/electric-cars/224158-review-tata-nexon-ev\",\n",
        "     2:\"https://www.team-bhp.com/forum/official-new-car-reviews/214118-hyundai-kona-official-review\",\n",
        "     3:\"https://www.team-bhp.com/forum/electric-cars/260439-tata-tiago-electric-review\",\n",
        "     4:\"https://www.team-bhp.com/forum/electric-cars/256855-mahindra-xuv400-ev-review.html\"}"
      ]
    },
    {
      "cell_type": "code",
      "execution_count": null,
      "id": "ca30f693",
      "metadata": {
        "id": "ca30f693"
      },
      "outputs": [],
      "source": [
        "# Any value from 1 to 4 to select values from the above dictionary\n",
        "i=2\n",
        "link=car[i]\n",
        "link1=car1[i]\n",
        "link2=car2[i]\n",
        "\n"
      ]
    },
    {
      "cell_type": "code",
      "execution_count": null,
      "id": "a5f845e1",
      "metadata": {
        "id": "a5f845e1"
      },
      "outputs": [],
      "source": [
        "site= link + \"/mileage\"\n",
        "hdr = {'User-Agent': 'Mozilla/5.0 (Windows NT 6.1) AppleWebKit/537.36 (KHTML, like Gecko) Chrome/41.0.2228.0 Safari/537.36'}\n",
        "req = Request(site,headers=hdr)\n",
        "page = urlopen(req)\n",
        "soup = BeautifulSoup(page)\n",
        "Range=[]"
      ]
    },
    {
      "cell_type": "code",
      "execution_count": null,
      "id": "0003afad",
      "metadata": {
        "id": "0003afad"
      },
      "outputs": [],
      "source": [
        "try:\n",
        "    ptt=soup.find(\"div\",class_=\"pagination\").ul\n",
        "    pages=ptt.find_all(\"li\")\n",
        "    for q in range(1,len(pages)-1):\n",
        "        if q==1:\n",
        "            site= site\n",
        "            hdr = {'User-Agent': 'Mozilla/5.0 (Windows NT 6.1) AppleWebKit/537.36 (KHTML, like Gecko) Chrome/41.0.2228.0 Safari/537.36'}\n",
        "            req = Request(site,headers=hdr)\n",
        "            page = urlopen(req)\n",
        "            soup = BeautifulSoup(page)\n",
        "            cars=soup.find('div',class_=\"gsc-ta-active gsc-ta-content\").ul\n",
        "            for i in cars:\n",
        "                j=i.find(\"div\",class_=\"contentspace\").find(\"p\",class_=\"contentheight\")\n",
        "                p=j.find(\"span\").text\n",
        "                Range.append(p)\n",
        "        else:\n",
        "            site= site\n",
        "            site=site+'/'+str(q)\n",
        "            hdr = {'User-Agent': 'Mozilla/5.0 (Windows NT 6.1) AppleWebKit/537.36 (KHTML, like Gecko) Chrome/41.0.2228.0 Safari/537.36'}\n",
        "            req = Request(site,headers=hdr)\n",
        "            page = urlopen(req)\n",
        "            soup = BeautifulSoup(page)\n",
        "            cars=soup.find('div',class_=\"gsc-ta-active gsc-ta-content\").ul\n",
        "            for i in cars:\n",
        "                j=i.find(\"div\",class_=\"contentspace\").find(\"p\",class_=\"contentheight\")\n",
        "                p=j.find(\"span\").text\n",
        "                Range.append(p)\n",
        "except:\n",
        "    try:\n",
        "        site= site\n",
        "        hdr = {'User-Agent': 'Mozilla/5.0 (Windows NT 6.1) AppleWebKit/537.36 (KHTML, like Gecko) Chrome/41.0.2228.0 Safari/537.36'}\n",
        "        req = Request(site,headers=hdr)\n",
        "        page = urlopen(req)\n",
        "        soup = BeautifulSoup(page)\n",
        "        cars=soup.find('div',class_=\"gsc-ta-active gsc-ta-content\").ul\n",
        "        for i in cars:\n",
        "            j=i.find(\"div\",class_=\"contentspace\").find(\"p\",class_=\"contentheight\")\n",
        "            p=j.find(\"span\").text\n",
        "            Range.append(p)\n",
        "    except:\n",
        "        print()"
      ]
    },
    {
      "cell_type": "code",
      "execution_count": null,
      "id": "ac7d97e5",
      "metadata": {
        "scrolled": true,
        "colab": {
          "base_uri": "https://localhost:8080/"
        },
        "id": "ac7d97e5",
        "outputId": "677866d3-d225-4d55-87d7-b7322bc6eb01"
      },
      "outputs": [
        {
          "output_type": "execute_result",
          "data": {
            "text/plain": [
              "5"
            ]
          },
          "metadata": {},
          "execution_count": 25
        }
      ],
      "source": [
        "len(Range)"
      ]
    },
    {
      "cell_type": "code",
      "source": [
        "Range"
      ],
      "metadata": {
        "colab": {
          "base_uri": "https://localhost:8080/"
        },
        "id": "2b9GI6ZGZOhf",
        "outputId": "4f3e3386-9a17-41f0-bb1f-15f749834c36"
      },
      "id": "2b9GI6ZGZOhf",
      "execution_count": null,
      "outputs": [
        {
          "output_type": "execute_result",
          "data": {
            "text/plain": [
              "['The Kona EV is a good car with very comfortable seats and an excellent sound system. The battery pack provides very good mileage.',\n",
              " 'Comfortable driving, mileage is good, and low maintenance cost, the suspension is good comfortable seating for long drives.',\n",
              " 'GOOD CAR WITH NICE SAFETY FEATURES,\\xa0EXCELLENT PERFORMANCE, AND ALSO WITH GREAT ABILITY OF MILEAGE. TILL NOW IN THE ELECTRIC VEHICLE SEGMENT FROM MY EXPERIENCE THIS HYUNDAI KONA IS A GREAT VEHICLE AND VERY EXCITING THING IS THAT IT IS BUDGET-FRIENDLY.\\xa0',\n",
              " \"Using it for the last 1 month.\\xa0It's a gentle-looking beast.\\xa0The pickup power is amazing. I tried 2 competitions cars in this segment. This is the best. Refined and well built,\\xa0and superior performance. The Audio system is better than a premium car segment.\\xa0The Bluetooth\\xa0connectivity to stream all music from a phone, music apps like amazon music, et...\",\n",
              " 'In the beginning, the car performed excellently well, but after 4 months the mileage on a full charge steadily reduced, and finally, it would not start at all. After paying a hefty amount for this car l am left without a vehicle and the Hyundai service people assured me that would send a replacement vehicle which they kept postponing with lame excu...']"
            ]
          },
          "metadata": {},
          "execution_count": 36
        }
      ]
    },
    {
      "cell_type": "markdown",
      "id": "3fd78107",
      "metadata": {
        "id": "3fd78107"
      },
      "source": [
        "# Safety"
      ]
    },
    {
      "cell_type": "code",
      "execution_count": null,
      "id": "4877ce76",
      "metadata": {
        "id": "4877ce76"
      },
      "outputs": [],
      "source": [
        "site= link + \"/safety\"\n",
        "hdr = {'User-Agent': 'Mozilla/5.0 (Windows NT 6.1) AppleWebKit/537.36 (KHTML, like Gecko) Chrome/41.0.2228.0 Safari/537.36'}\n",
        "req = Request(site,headers=hdr)\n",
        "page = urlopen(req)\n",
        "soup = BeautifulSoup(page)\n",
        "Safety=[]"
      ]
    },
    {
      "cell_type": "code",
      "execution_count": null,
      "id": "3e0406f2",
      "metadata": {
        "id": "3e0406f2"
      },
      "outputs": [],
      "source": [
        "try:\n",
        "    ptt=soup.find(\"div\",class_=\"pagination\").ul\n",
        "    pages=ptt.find_all(\"li\")\n",
        "    for q in range(1,len(pages)-1):\n",
        "        if q==1:\n",
        "            site= site\n",
        "            hdr = {'User-Agent': 'Mozilla/5.0 (Windows NT 6.1) AppleWebKit/537.36 (KHTML, like Gecko) Chrome/41.0.2228.0 Safari/537.36'}\n",
        "            req = Request(site,headers=hdr)\n",
        "            page = urlopen(req)\n",
        "            soup = BeautifulSoup(page)\n",
        "            cars=soup.find('div',class_=\"gsc-ta-active gsc-ta-content\").ul\n",
        "            for i in cars:\n",
        "                j=i.find(\"div\",class_=\"contentspace\").find(\"p\",class_=\"contentheight\")\n",
        "                p=j.find(\"span\").text\n",
        "                Safety.append(p)\n",
        "        else:\n",
        "            site=site\n",
        "            site=site+'/'+str(q)\n",
        "            hdr = {'User-Agent': 'Mozilla/5.0 (Windows NT 6.1) AppleWebKit/537.36 (KHTML, like Gecko) Chrome/41.0.2228.0 Safari/537.36'}\n",
        "            req = Request(site,headers=hdr)\n",
        "            page = urlopen(req)\n",
        "            soup = BeautifulSoup(page)\n",
        "            cars=soup.find('div',class_=\"gsc-ta-active gsc-ta-content\").ul\n",
        "            for i in cars:\n",
        "                j=i.find(\"div\",class_=\"contentspace\").find(\"p\",class_=\"contentheight\")\n",
        "                p=j.find(\"span\").text\n",
        "                Safety.append(p)\n",
        "except:\n",
        "    try:\n",
        "        site= site\n",
        "        hdr = {'User-Agent': 'Mozilla/5.0 (Windows NT 6.1) AppleWebKit/537.36 (KHTML, like Gecko) Chrome/41.0.2228.0 Safari/537.36'}\n",
        "        req = Request(site,headers=hdr)\n",
        "        page = urlopen(req)\n",
        "        soup = BeautifulSoup(page)\n",
        "        cars=soup.find('div',class_=\"gsc-ta-active gsc-ta-content\").ul\n",
        "        for i in cars:\n",
        "            j=i.find(\"div\",class_=\"contentspace\").find(\"p\",class_=\"contentheight\")\n",
        "            p=j.find(\"span\").text\n",
        "            Safety.append(p)\n",
        "    except:\n",
        "        print()"
      ]
    },
    {
      "cell_type": "code",
      "execution_count": null,
      "id": "c7dfc066",
      "metadata": {
        "colab": {
          "base_uri": "https://localhost:8080/",
          "height": 216
        },
        "id": "c7dfc066",
        "outputId": "71a53a05-78bf-4204-f7a2-6d92a1fa7a02"
      },
      "outputs": [
        {
          "output_type": "error",
          "ename": "AttributeError",
          "evalue": "'NoneType' object has no attribute 'find_all'",
          "traceback": [
            "\u001b[0;31m---------------------------------------------------------------------------\u001b[0m",
            "\u001b[0;31mAttributeError\u001b[0m                            Traceback (most recent call last)",
            "\u001b[0;32m<ipython-input-28-343ecabd3188>\u001b[0m in \u001b[0;36m<cell line: 7>\u001b[0;34m()\u001b[0m\n\u001b[1;32m      5\u001b[0m \u001b[0msoup\u001b[0m \u001b[0;34m=\u001b[0m \u001b[0mBeautifulSoup\u001b[0m\u001b[0;34m(\u001b[0m\u001b[0mpage\u001b[0m\u001b[0;34m)\u001b[0m\u001b[0;34m\u001b[0m\u001b[0;34m\u001b[0m\u001b[0m\n\u001b[1;32m      6\u001b[0m \u001b[0msec\u001b[0m\u001b[0;34m=\u001b[0m\u001b[0msoup\u001b[0m\u001b[0;34m.\u001b[0m\u001b[0mfind\u001b[0m\u001b[0;34m(\u001b[0m\u001b[0;34m'div'\u001b[0m\u001b[0;34m,\u001b[0m\u001b[0mclass_\u001b[0m\u001b[0;34m=\u001b[0m\u001b[0;34m'pt-15'\u001b[0m\u001b[0;34m)\u001b[0m\u001b[0;34m.\u001b[0m\u001b[0mul\u001b[0m\u001b[0;34m\u001b[0m\u001b[0;34m\u001b[0m\u001b[0m\n\u001b[0;32m----> 7\u001b[0;31m \u001b[0mlist1\u001b[0m\u001b[0;34m=\u001b[0m\u001b[0msec\u001b[0m\u001b[0;34m.\u001b[0m\u001b[0mfind_all\u001b[0m\u001b[0;34m(\u001b[0m\u001b[0;34m'li'\u001b[0m\u001b[0;34m)\u001b[0m\u001b[0;34m\u001b[0m\u001b[0;34m\u001b[0m\u001b[0m\n\u001b[0m\u001b[1;32m      8\u001b[0m \u001b[0mt\u001b[0m\u001b[0;34m=\u001b[0m\u001b[0mlist1\u001b[0m\u001b[0;34m[\u001b[0m\u001b[0;36m1\u001b[0m\u001b[0;34m]\u001b[0m\u001b[0;34m.\u001b[0m\u001b[0mtext\u001b[0m\u001b[0;34m.\u001b[0m\u001b[0mstrip\u001b[0m\u001b[0;34m(\u001b[0m\u001b[0;34m\"\\n\"\u001b[0m\u001b[0;34m)\u001b[0m\u001b[0;34m[\u001b[0m\u001b[0;34m:\u001b[0m\u001b[0;34m-\u001b[0m\u001b[0;36m3\u001b[0m\u001b[0;34m]\u001b[0m\u001b[0;34m\u001b[0m\u001b[0;34m\u001b[0m\u001b[0m\n\u001b[1;32m      9\u001b[0m \u001b[0;32mif\u001b[0m \u001b[0mre\u001b[0m\u001b[0;34m.\u001b[0m\u001b[0msearch\u001b[0m\u001b[0;34m(\u001b[0m\u001b[0;34m\"Safety\"\u001b[0m\u001b[0;34m,\u001b[0m\u001b[0mt\u001b[0m\u001b[0;34m)\u001b[0m\u001b[0;34m:\u001b[0m\u001b[0;34m\u001b[0m\u001b[0;34m\u001b[0m\u001b[0m\n",
            "\u001b[0;31mAttributeError\u001b[0m: 'NoneType' object has no attribute 'find_all'"
          ]
        }
      ],
      "source": [
        "site= link1 + \"/safety\"\n",
        "hdr = {'User-Agent': 'Mozilla/5.0 (Windows NT 6.1) AppleWebKit/537.36 (KHTML, like Gecko) Chrome/41.0.2228.0 Safari/537.36'}\n",
        "req = Request(site,headers=hdr)\n",
        "page = urlopen(req)\n",
        "soup = BeautifulSoup(page)\n",
        "sec=soup.find('div',class_='pt-15').ul\n",
        "list1=sec.find_all('li')\n",
        "t=list1[1].text.strip(\"\\n\")[:-3]\n",
        "if re.search(\"Safety\",t):\n",
        "    sec=soup.find('div',class_='f-rvm').find_all(\"div\",class_=\"ncmt-c\")\n",
        "    for reviews in sec:\n",
        "        review=reviews.find(\"p\").text\n",
        "        Safety.append(review)\n",
        "else:\n",
        "    print()"
      ]
    },
    {
      "cell_type": "code",
      "execution_count": null,
      "id": "97653e86",
      "metadata": {
        "id": "97653e86"
      },
      "outputs": [],
      "source": [
        "len(Safety)"
      ]
    },
    {
      "cell_type": "code",
      "execution_count": null,
      "id": "681959ae",
      "metadata": {
        "id": "681959ae"
      },
      "outputs": [],
      "source": [
        "df=pd.DataFrame({\"Safety\":Safety})"
      ]
    },
    {
      "cell_type": "markdown",
      "id": "6b775543",
      "metadata": {
        "id": "6b775543"
      },
      "source": [
        "# Performance"
      ]
    },
    {
      "cell_type": "code",
      "execution_count": null,
      "id": "13b2cbc5",
      "metadata": {
        "id": "13b2cbc5"
      },
      "outputs": [],
      "source": [
        "site= link + \"/performance\"\n",
        "hdr = {'User-Agent': 'Mozilla/5.0 (Windows NT 6.1) AppleWebKit/537.36 (KHTML, like Gecko) Chrome/41.0.2228.0 Safari/537.36'}"
      ]
    },
    {
      "cell_type": "code",
      "execution_count": null,
      "id": "cecf2b07",
      "metadata": {
        "id": "cecf2b07"
      },
      "outputs": [],
      "source": [
        "req = Request(site,headers=hdr)\n",
        "page = urlopen(req)"
      ]
    },
    {
      "cell_type": "code",
      "execution_count": null,
      "id": "80abf83e",
      "metadata": {
        "id": "80abf83e"
      },
      "outputs": [],
      "source": [
        "soup = BeautifulSoup(page)\n",
        "Performance=[]"
      ]
    },
    {
      "cell_type": "code",
      "execution_count": null,
      "id": "447a7c22",
      "metadata": {
        "id": "447a7c22"
      },
      "outputs": [],
      "source": [
        "try:\n",
        "    ptt=soup.find(\"div\",class_=\"pagination\").ul\n",
        "    pages=ptt.find_all(\"li\")\n",
        "    for q in range(1,len(pages)-1):\n",
        "        if q==1:\n",
        "            site= site\n",
        "            hdr = {'User-Agent': 'Mozilla/5.0 (Windows NT 6.1) AppleWebKit/537.36 (KHTML, like Gecko) Chrome/41.0.2228.0 Safari/537.36'}\n",
        "            req = Request(site,headers=hdr)\n",
        "            page = urlopen(req)\n",
        "            soup = BeautifulSoup(page)\n",
        "            cars=soup.find('div',class_=\"gsc-ta-active gsc-ta-content\").ul\n",
        "            for i in cars:\n",
        "                j=i.find(\"div\",class_=\"contentspace\").find(\"p\",class_=\"contentheight\")\n",
        "                p=j.find(\"span\").text\n",
        "                Text.append(p)\n",
        "                Performance.append(p)\n",
        "        else:\n",
        "            site=site\n",
        "            site=site+'/'+str(q)\n",
        "            hdr = {'User-Agent': 'Mozilla/5.0 (Windows NT 6.1) AppleWebKit/537.36 (KHTML, like Gecko) Chrome/41.0.2228.0 Safari/537.36'}\n",
        "            req = Request(site,headers=hdr)\n",
        "            page = urlopen(req)\n",
        "            soup = BeautifulSoup(page)\n",
        "            cars=soup.find('div',class_=\"gsc-ta-active gsc-ta-content\").ul\n",
        "            for i in cars:\n",
        "                j=i.find(\"div\",class_=\"contentspace\").find(\"p\",class_=\"contentheight\")\n",
        "                p=j.find(\"span\").text\n",
        "                Performance.append(p)\n",
        "except:\n",
        "    try:\n",
        "\n",
        "        site= site\n",
        "        hdr = {'User-Agent': 'Mozilla/5.0 (Windows NT 6.1) AppleWebKit/537.36 (KHTML, like Gecko) Chrome/41.0.2228.0 Safari/537.36'}\n",
        "        req = Request(site,headers=hdr)\n",
        "        page = urlopen(req)\n",
        "        soup = BeautifulSoup(page)\n",
        "        cars=soup.find('div',class_=\"gsc-ta-active gsc-ta-content\").ul\n",
        "        for i in cars:\n",
        "            j=i.find(\"div\",class_=\"contentspace\").find(\"p\",class_=\"contentheight\")\n",
        "            p=j.find(\"span\").text\n",
        "            Performance.append(p)\n",
        "    except:\n",
        "        print()"
      ]
    },
    {
      "cell_type": "code",
      "execution_count": null,
      "id": "6e53b1dd",
      "metadata": {
        "colab": {
          "base_uri": "https://localhost:8080/"
        },
        "id": "6e53b1dd",
        "outputId": "a8c83dc0-5410-4c1c-d273-80a3385d8124"
      },
      "outputs": [
        {
          "output_type": "stream",
          "name": "stdout",
          "text": [
            "\n"
          ]
        }
      ],
      "source": [
        "site= link1 + \"/performance\"\n",
        "hdr = {'User-Agent': 'Mozilla/5.0 (Windows NT 6.1) AppleWebKit/537.36 (KHTML, like Gecko) Chrome/41.0.2228.0 Safari/537.36'}\n",
        "req = Request(site,headers=hdr)\n",
        "page = urlopen(req)\n",
        "soup = BeautifulSoup(page)\n",
        "try:\n",
        "    sec=soup.find('div',class_='pt-15').ul\n",
        "    list1=sec.find_all('li')\n",
        "    t=list1[1].text.strip(\"\\n\")[:-3]\n",
        "    if re.search(\"Performance\",t):\n",
        "        sec=soup.find('div',class_='f-rvm').find_all(\"div\",class_=\"ncmt-c\")\n",
        "        for reviews in sec:\n",
        "            review=reviews.find(\"p\").text\n",
        "            Performance.append(review)\n",
        "except:\n",
        "    print()"
      ]
    },
    {
      "cell_type": "code",
      "execution_count": null,
      "id": "57c138ab",
      "metadata": {
        "id": "57c138ab"
      },
      "outputs": [],
      "source": [
        "df=pd.DataFrame({\"Performance\":Performance})"
      ]
    },
    {
      "cell_type": "code",
      "execution_count": null,
      "id": "49d7d3e7",
      "metadata": {
        "id": "49d7d3e7"
      },
      "outputs": [],
      "source": [
        "df.to_csv(\"Performance.csv\")"
      ]
    },
    {
      "cell_type": "markdown",
      "id": "d03fac02",
      "metadata": {
        "id": "d03fac02"
      },
      "source": [
        "# Occupant Comfort (HVAC, Seating)"
      ]
    },
    {
      "cell_type": "code",
      "execution_count": null,
      "id": "4b7ed33f",
      "metadata": {
        "id": "4b7ed33f"
      },
      "outputs": [],
      "source": [
        "site= link + \"/seat\"\n",
        "hdr = {'User-Agent': 'Mozilla/5.0 (Windows NT 6.1) AppleWebKit/537.36 (KHTML, like Gecko) Chrome/41.0.2228.0 Safari/537.36'}\n",
        "req = Request(site,headers=hdr)\n",
        "page = urlopen(req)\n",
        "soup = BeautifulSoup(page)\n",
        "comfort=[]"
      ]
    },
    {
      "cell_type": "code",
      "execution_count": null,
      "id": "60f36ee8",
      "metadata": {
        "id": "60f36ee8"
      },
      "outputs": [],
      "source": [
        "try:\n",
        "    ptt=soup.find(\"div\",class_=\"pagination\").ul\n",
        "    pages=ptt.find_all(\"li\")\n",
        "    for q in range(1,len(pages)-1):\n",
        "        if q==1:\n",
        "            site= site\n",
        "            hdr = {'User-Agent': 'Mozilla/5.0 (Windows NT 6.1) AppleWebKit/537.36 (KHTML, like Gecko) Chrome/41.0.2228.0 Safari/537.36'}\n",
        "            req = Request(site,headers=hdr)\n",
        "            page = urlopen(req)\n",
        "            soup = BeautifulSoup(page)\n",
        "            cars=soup.find('div',class_=\"gsc-ta-active gsc-ta-content\").ul\n",
        "            for i in cars:\n",
        "                j=i.find(\"div\",class_=\"contentspace\").find(\"p\",class_=\"contentheight\")\n",
        "                p=j.find(\"span\").text\n",
        "                comfort.append(p)\n",
        "        else:\n",
        "            site=site\n",
        "            site=site+'/'+str(q)\n",
        "            hdr = {'User-Agent': 'Mozilla/5.0 (Windows NT 6.1) AppleWebKit/537.36 (KHTML, like Gecko) Chrome/41.0.2228.0 Safari/537.36'}\n",
        "            req = Request(site,headers=hdr)\n",
        "            page = urlopen(req)\n",
        "            soup = BeautifulSoup(page)\n",
        "            cars=soup.find('div',class_=\"gsc-ta-active gsc-ta-content\").ul\n",
        "            for i in cars:\n",
        "                j=i.find(\"div\",class_=\"contentspace\").find(\"p\",class_=\"contentheight\")\n",
        "                p=j.find(\"span\").text\n",
        "                comfort.append(p)\n",
        "except:\n",
        "    try:\n",
        "        site= site\n",
        "        hdr = {'User-Agent': 'Mozilla/5.0 (Windows NT 6.1) AppleWebKit/537.36 (KHTML, like Gecko) Chrome/41.0.2228.0 Safari/537.36'}\n",
        "        req = Request(site,headers=hdr)\n",
        "        page = urlopen(req)\n",
        "        soup = BeautifulSoup(page)\n",
        "        cars=soup.find('div',class_=\"gsc-ta-active gsc-ta-content\").ul\n",
        "        for i in cars:\n",
        "            j=i.find(\"div\",class_=\"contentspace\").find(\"p\",class_=\"contentheight\")\n",
        "            p=j.find(\"span\").text\n",
        "            comfort.append(p)\n",
        "    except:\n",
        "        print()"
      ]
    },
    {
      "cell_type": "code",
      "execution_count": null,
      "id": "ebcd1898",
      "metadata": {
        "id": "ebcd1898"
      },
      "outputs": [],
      "source": [
        "site= link1 + \"/seat\"\n",
        "hdr = {'User-Agent': 'Mozilla/5.0 (Windows NT 6.1) AppleWebKit/537.36 (KHTML, like Gecko) Chrome/41.0.2228.0 Safari/537.36'}\n",
        "req = Request(site,headers=hdr)\n",
        "page = urlopen(req)\n",
        "soup = BeautifulSoup(page)\n",
        "try:\n",
        "    sec=soup.find('div',class_='pt-15').ul\n",
        "    list1=sec.find_all('li')\n",
        "    t=list1[1].text.strip(\"\\n\")[:-3]\n",
        "    if re.search(\"Seat\",t):\n",
        "        sec=soup.find('div',class_='f-rvm').find_all(\"div\",class_=\"ncmt-c\")\n",
        "        for reviews in sec:\n",
        "            review=reviews.find(\"p\").text\n",
        "            comfort.append(review)\n",
        "except:\n",
        "    print()"
      ]
    },
    {
      "cell_type": "code",
      "execution_count": null,
      "id": "f5497a7a",
      "metadata": {
        "id": "f5497a7a"
      },
      "outputs": [],
      "source": [
        "site= link1 + \"/space\"\n",
        "hdr = {'User-Agent': 'Mozilla/5.0 (Windows NT 6.1) AppleWebKit/537.36 (KHTML, like Gecko) Chrome/41.0.2228.0 Safari/537.36'}\n",
        "req = Request(site,headers=hdr)\n",
        "page = urlopen(req)\n",
        "soup = BeautifulSoup(page)"
      ]
    },
    {
      "cell_type": "code",
      "execution_count": null,
      "id": "c76628ab",
      "metadata": {
        "id": "c76628ab"
      },
      "outputs": [],
      "source": [
        "try:\n",
        "    ptt=soup.find(\"div\",class_=\"pagination\").ul\n",
        "    pages=ptt.find_all(\"li\")\n",
        "    for q in range(1,len(pages)-1):\n",
        "        if q==1:\n",
        "            site= site\n",
        "            hdr = {'User-Agent': 'Mozilla/5.0 (Windows NT 6.1) AppleWebKit/537.36 (KHTML, like Gecko) Chrome/41.0.2228.0 Safari/537.36'}\n",
        "            req = Request(site,headers=hdr)\n",
        "            page = urlopen(req)\n",
        "            soup = BeautifulSoup(page)\n",
        "            cars=soup.find('div',class_=\"gsc-ta-active gsc-ta-content\").ul\n",
        "            for i in cars:\n",
        "                j=i.find(\"div\",class_=\"contentspace\").find(\"p\",class_=\"contentheight\")\n",
        "                p=j.find(\"span\").text\n",
        "                comfort.append(p)\n",
        "        else:\n",
        "            site=site\n",
        "            site=site+'/'+str(q)\n",
        "            hdr = {'User-Agent': 'Mozilla/5.0 (Windows NT 6.1) AppleWebKit/537.36 (KHTML, like Gecko) Chrome/41.0.2228.0 Safari/537.36'}\n",
        "            req = Request(site,headers=hdr)\n",
        "            page = urlopen(req)\n",
        "            soup = BeautifulSoup(page)\n",
        "            cars=soup.find('div',class_=\"gsc-ta-active gsc-ta-content\").ul\n",
        "            for i in cars:\n",
        "                j=i.find(\"div\",class_=\"contentspace\").find(\"p\",class_=\"contentheight\")\n",
        "                p=j.find(\"span\").text\n",
        "                comfort.append(p)\n",
        "except:\n",
        "    try:\n",
        "        site= site\n",
        "        hdr = {'User-Agent': 'Mozilla/5.0 (Windows NT 6.1) AppleWebKit/537.36 (KHTML, like Gecko) Chrome/41.0.2228.0 Safari/537.36'}\n",
        "        req = Request(site,headers=hdr)\n",
        "        page = urlopen(req)\n",
        "        soup = BeautifulSoup(page)\n",
        "        cars=soup.find('div',class_=\"gsc-ta-active gsc-ta-content\").ul\n",
        "        for i in cars:\n",
        "            j=i.find(\"div\",class_=\"contentspace\").find(\"p\",class_=\"contentheight\")\n",
        "            p=j.find(\"span\").text\n",
        "            comfort.append(p)\n",
        "    except:\n",
        "        print()"
      ]
    },
    {
      "cell_type": "code",
      "execution_count": null,
      "id": "f853b96e",
      "metadata": {
        "id": "f853b96e"
      },
      "outputs": [],
      "source": [
        "len(comfort)"
      ]
    },
    {
      "cell_type": "code",
      "execution_count": null,
      "id": "be988842",
      "metadata": {
        "id": "be988842"
      },
      "outputs": [],
      "source": [
        "site= link + \"/seat-comfortable\"\n",
        "hdr = {'User-Agent': 'Mozilla/5.0 (Windows NT 6.1) AppleWebKit/537.36 (KHTML, like Gecko) Chrome/41.0.2228.0 Safari/537.36'}\n",
        "req = Request(site,headers=hdr)\n",
        "page = urlopen(req)\n",
        "soup = BeautifulSoup(page)"
      ]
    },
    {
      "cell_type": "code",
      "execution_count": null,
      "id": "ba53a001",
      "metadata": {
        "id": "ba53a001"
      },
      "outputs": [],
      "source": [
        "try:\n",
        "    ptt=soup.find(\"div\",class_=\"pagination\").ul\n",
        "    pages=ptt.find_all(\"li\")\n",
        "    for q in range(1,len(pages)-1):\n",
        "        if q==1:\n",
        "            site= site\n",
        "            hdr = {'User-Agent': 'Mozilla/5.0 (Windows NT 6.1) AppleWebKit/537.36 (KHTML, like Gecko) Chrome/41.0.2228.0 Safari/537.36'}\n",
        "            req = Request(site,headers=hdr)\n",
        "            page = urlopen(req)\n",
        "            soup = BeautifulSoup(page)\n",
        "            cars=soup.find('div',class_=\"gsc-ta-active gsc-ta-content\").ul\n",
        "            for i in cars:\n",
        "                j=i.find(\"div\",class_=\"contentspace\").find(\"p\",class_=\"contentheight\")\n",
        "                p=j.find(\"span\").text\n",
        "                comfort.append(p)\n",
        "        else:\n",
        "            site=site\n",
        "            site=site+'/'+str(q)\n",
        "            hdr = {'User-Agent': 'Mozilla/5.0 (Windows NT 6.1) AppleWebKit/537.36 (KHTML, like Gecko) Chrome/41.0.2228.0 Safari/537.36'}\n",
        "            req = Request(site,headers=hdr)\n",
        "            page = urlopen(req)\n",
        "            soup = BeautifulSoup(page)\n",
        "            cars=soup.find('div',class_=\"gsc-ta-active gsc-ta-content\").ul\n",
        "            for i in cars:\n",
        "                j=i.find(\"div\",class_=\"contentspace\").find(\"p\",class_=\"contentheight\")\n",
        "                p=j.find(\"span\").text\n",
        "                comfort.append(p)\n",
        "except:\n",
        "    try:\n",
        "        site= site\n",
        "        hdr = {'User-Agent': 'Mozilla/5.0 (Windows NT 6.1) AppleWebKit/537.36 (KHTML, like Gecko) Chrome/41.0.2228.0 Safari/537.36'}\n",
        "        req = Request(site,headers=hdr)\n",
        "        page = urlopen(req)\n",
        "        soup = BeautifulSoup(page)\n",
        "        cars=soup.find('div',class_=\"gsc-ta-active gsc-ta-content\").ul\n",
        "        for i in cars:\n",
        "            j=i.find(\"div\",class_=\"contentspace\").find(\"p\",class_=\"contentheight\")\n",
        "            p=j.find(\"span\").text\n",
        "            comfort.append(p)\n",
        "    except:\n",
        "        print()"
      ]
    },
    {
      "cell_type": "code",
      "execution_count": null,
      "id": "84352f63",
      "metadata": {
        "id": "84352f63"
      },
      "outputs": [],
      "source": [
        "site= link1 + \"/comfort\"\n",
        "hdr = {'User-Agent': 'Mozilla/5.0 (Windows NT 6.1) AppleWebKit/537.36 (KHTML, like Gecko) Chrome/41.0.2228.0 Safari/537.36'}\n",
        "req = Request(site,headers=hdr)\n",
        "page = urlopen(req)\n",
        "soup = BeautifulSoup(page)\n",
        "try:\n",
        "    sec=soup.find('div',class_='pt-15').ul\n",
        "    list1=sec.find_all('li')\n",
        "    t=list1[1].text.strip(\"\\n\")[:-3]\n",
        "    if re.search(\"Comfort\",t):\n",
        "        sec=soup.find('div',class_='f-rvm').find_all(\"div\",class_=\"ncmt-c\")\n",
        "        for reviews in sec:\n",
        "            review=reviews.find(\"p\").text\n",
        "            comfort.append(review)\n",
        "except:\n",
        "    print()"
      ]
    },
    {
      "cell_type": "code",
      "execution_count": null,
      "id": "d20015ef",
      "metadata": {
        "id": "d20015ef"
      },
      "outputs": [],
      "source": [
        "len(comfort)"
      ]
    },
    {
      "cell_type": "code",
      "execution_count": null,
      "id": "76e39ac7",
      "metadata": {
        "id": "76e39ac7"
      },
      "outputs": [],
      "source": [
        "site= link + \"/ac\"\n",
        "hdr = {'User-Agent': 'Mozilla/5.0 (Windows NT 6.1) AppleWebKit/537.36 (KHTML, like Gecko) Chrome/41.0.2228.0 Safari/537.36'}\n",
        "req = Request(site,headers=hdr)\n",
        "page = urlopen(req)\n",
        "soup = BeautifulSoup(page)"
      ]
    },
    {
      "cell_type": "code",
      "execution_count": null,
      "id": "1eb3073a",
      "metadata": {
        "id": "1eb3073a"
      },
      "outputs": [],
      "source": [
        "try:\n",
        "    ptt=soup.find(\"div\",class_=\"pagination\").ul\n",
        "    pages=ptt.find_all(\"li\")\n",
        "    for q in range(1,len(pages)-1):\n",
        "        if q==1:\n",
        "            site= site\n",
        "            hdr = {'User-Agent': 'Mozilla/5.0 (Windows NT 6.1) AppleWebKit/537.36 (KHTML, like Gecko) Chrome/41.0.2228.0 Safari/537.36'}\n",
        "            req = Request(site,headers=hdr)\n",
        "            page = urlopen(req)\n",
        "            soup = BeautifulSoup(page)\n",
        "            cars=soup.find('div',class_=\"gsc-ta-active gsc-ta-content\").ul\n",
        "            for i in cars:\n",
        "                j=i.find(\"div\",class_=\"contentspace\").find(\"p\",class_=\"contentheight\")\n",
        "                p=j.find(\"span\").text\n",
        "                comfort.append(p)\n",
        "        else:\n",
        "            site=site\n",
        "            site=site+'/'+str(q)\n",
        "            hdr = {'User-Agent': 'Mozilla/5.0 (Windows NT 6.1) AppleWebKit/537.36 (KHTML, like Gecko) Chrome/41.0.2228.0 Safari/537.36'}\n",
        "            req = Request(site,headers=hdr)\n",
        "            page = urlopen(req)\n",
        "            soup = BeautifulSoup(page)\n",
        "            cars=soup.find('div',class_=\"gsc-ta-active gsc-ta-content\").ul\n",
        "            for i in cars:\n",
        "                j=i.find(\"div\",class_=\"contentspace\").find(\"p\",class_=\"contentheight\")\n",
        "                p=j.find(\"span\").text\n",
        "                comfort.append(p)\n",
        "except:\n",
        "    try:\n",
        "        site= site\n",
        "        hdr = {'User-Agent': 'Mozilla/5.0 (Windows NT 6.1) AppleWebKit/537.36 (KHTML, like Gecko) Chrome/41.0.2228.0 Safari/537.36'}\n",
        "        req = Request(site,headers=hdr)\n",
        "        page = urlopen(req)\n",
        "        soup = BeautifulSoup(page)\n",
        "        cars=soup.find('div',class_=\"gsc-ta-active gsc-ta-content\").ul\n",
        "        for i in cars:\n",
        "            j=i.find(\"div\",class_=\"contentspace\").find(\"p\",class_=\"contentheight\")\n",
        "            p=j.find(\"span\").text\n",
        "            comfort.append(p)\n",
        "    except:\n",
        "        print()"
      ]
    },
    {
      "cell_type": "code",
      "execution_count": null,
      "id": "0345d1c5",
      "metadata": {
        "id": "0345d1c5"
      },
      "outputs": [],
      "source": [
        "len(comfort)"
      ]
    },
    {
      "cell_type": "code",
      "execution_count": null,
      "id": "998559a5",
      "metadata": {
        "id": "998559a5"
      },
      "outputs": [],
      "source": [
        "df=pd.DataFrame({\"Comfort\":comfort})"
      ]
    },
    {
      "cell_type": "code",
      "execution_count": null,
      "id": "fdba9456",
      "metadata": {
        "id": "fdba9456"
      },
      "outputs": [],
      "source": [
        "df.to_csv(\"Comfort.csv\")"
      ]
    },
    {
      "cell_type": "markdown",
      "id": "c73ccb6e",
      "metadata": {
        "id": "c73ccb6e"
      },
      "source": [
        "# Off-road capability"
      ]
    },
    {
      "cell_type": "code",
      "execution_count": null,
      "id": "e46a0846",
      "metadata": {
        "id": "e46a0846"
      },
      "outputs": [],
      "source": [
        "site= link + \"/suspension\"\n",
        "hdr = {'User-Agent': 'Mozilla/5.0 (Windows NT 6.1) AppleWebKit/537.36 (KHTML, like Gecko) Chrome/41.0.2228.0 Safari/537.36'}\n",
        "req = Request(site,headers=hdr)\n",
        "page = urlopen(req)\n",
        "soup = BeautifulSoup(page)\n",
        "Off_road=[]"
      ]
    },
    {
      "cell_type": "code",
      "execution_count": null,
      "id": "f31e6c4d",
      "metadata": {
        "id": "f31e6c4d"
      },
      "outputs": [],
      "source": [
        "try:\n",
        "    ptt=soup.find(\"div\",class_=\"pagination\").ul\n",
        "    pages=ptt.find_all(\"li\")\n",
        "    for q in range(1,len(pages)-1):\n",
        "        if q==1:\n",
        "            site= site\n",
        "            hdr = {'User-Agent': 'Mozilla/5.0 (Windows NT 6.1) AppleWebKit/537.36 (KHTML, like Gecko) Chrome/41.0.2228.0 Safari/537.36'}\n",
        "            req = Request(site,headers=hdr)\n",
        "            page = urlopen(req)\n",
        "            soup = BeautifulSoup(page)\n",
        "            cars=soup.find('div',class_=\"gsc-ta-active gsc-ta-content\").ul\n",
        "            for i in cars:\n",
        "                j=i.find(\"div\",class_=\"contentspace\").find(\"p\",class_=\"contentheight\")\n",
        "                p=j.find(\"span\").text\n",
        "                Off_road.append(p)\n",
        "        else:\n",
        "            site=site\n",
        "            site=site+'/'+str(q)\n",
        "            hdr = {'User-Agent': 'Mozilla/5.0 (Windows NT 6.1) AppleWebKit/537.36 (KHTML, like Gecko) Chrome/41.0.2228.0 Safari/537.36'}\n",
        "            req = Request(site,headers=hdr)\n",
        "            page = urlopen(req)\n",
        "            soup = BeautifulSoup(page)\n",
        "            cars=soup.find('div',class_=\"gsc-ta-active gsc-ta-content\").ul\n",
        "            for i in cars:\n",
        "                j=i.find(\"div\",class_=\"contentspace\").find(\"p\",class_=\"contentheight\")\n",
        "                p=j.find(\"span\").text\n",
        "                Off_road.append(p)\n",
        "except:\n",
        "    try:\n",
        "        site= site\n",
        "        hdr = {'User-Agent': 'Mozilla/5.0 (Windows NT 6.1) AppleWebKit/537.36 (KHTML, like Gecko) Chrome/41.0.2228.0 Safari/537.36'}\n",
        "        req = Request(site,headers=hdr)\n",
        "        page = urlopen(req)\n",
        "        soup = BeautifulSoup(page)\n",
        "        cars=soup.find('div',class_=\"gsc-ta-active gsc-ta-content\").ul\n",
        "        Off_road=[]\n",
        "        Max=[]\n",
        "        for i in cars:\n",
        "            j=i.find(\"div\",class_=\"contentspace\").find(\"p\",class_=\"contentheight\")\n",
        "            p=j.find(\"span\").text\n",
        "            Off_road.append(p)\n",
        "    except:\n",
        "        print()"
      ]
    },
    {
      "cell_type": "code",
      "execution_count": null,
      "id": "249ccf48",
      "metadata": {
        "id": "249ccf48"
      },
      "outputs": [],
      "source": [
        "site= link1 + \"/suspension\"\n",
        "hdr = {'User-Agent': 'Mozilla/5.0 (Windows NT 6.1) AppleWebKit/537.36 (KHTML, like Gecko) Chrome/41.0.2228.0 Safari/537.36'}\n",
        "req = Request(site,headers=hdr)\n",
        "page = urlopen(req)\n",
        "soup = BeautifulSoup(page)\n",
        "try:\n",
        "    sec=soup.find('div',class_='pt-15').ul\n",
        "    list1=sec.find_all('li')\n",
        "    t=list1[1].text.strip(\"\\n\")[:-3]\n",
        "    if re.search(\"Suspension\",t):\n",
        "        sec=soup.find('div',class_='f-rvm').find_all(\"div\",class_=\"ncmt-c\")\n",
        "        for reviews in sec:\n",
        "            review=reviews.find(\"p\").text\n",
        "            Off_road.append(review)\n",
        "except:\n",
        "    print()"
      ]
    },
    {
      "cell_type": "code",
      "execution_count": null,
      "id": "db850221",
      "metadata": {
        "id": "db850221"
      },
      "outputs": [],
      "source": [
        "len(Off_road)"
      ]
    },
    {
      "cell_type": "code",
      "execution_count": null,
      "id": "8f633e20",
      "metadata": {
        "id": "8f633e20"
      },
      "outputs": [],
      "source": [
        "site= link + \"/ground-clearance\"\n",
        "hdr = {'User-Agent': 'Mozilla/5.0 (Windows NT 6.1) AppleWebKit/537.36 (KHTML, like Gecko) Chrome/41.0.2228.0 Safari/537.36'}\n",
        "req = Request(site,headers=hdr)\n",
        "page = urlopen(req)\n",
        "soup = BeautifulSoup(page)"
      ]
    },
    {
      "cell_type": "code",
      "execution_count": null,
      "id": "07cfa9db",
      "metadata": {
        "id": "07cfa9db"
      },
      "outputs": [],
      "source": [
        "try:\n",
        "    ptt=soup.find(\"div\",class_=\"pagination\").ul\n",
        "    pages=ptt.find_all(\"li\")\n",
        "    for q in range(1,len(pages)-1):\n",
        "        if q==1:\n",
        "            site= site\n",
        "            hdr = {'User-Agent': 'Mozilla/5.0 (Windows NT 6.1) AppleWebKit/537.36 (KHTML, like Gecko) Chrome/41.0.2228.0 Safari/537.36'}\n",
        "            req = Request(site,headers=hdr)\n",
        "            page = urlopen(req)\n",
        "            soup = BeautifulSoup(page)\n",
        "            cars=soup.find('div',class_=\"gsc-ta-active gsc-ta-content\").ul\n",
        "            for i in cars:\n",
        "                j=i.find(\"div\",class_=\"contentspace\").find(\"p\",class_=\"contentheight\")\n",
        "                p=j.find(\"span\").text\n",
        "                Off_road.append(p)\n",
        "\n",
        "        else:\n",
        "            site=site\n",
        "            site=site+'/'+str(q)\n",
        "            hdr = {'User-Agent': 'Mozilla/5.0 (Windows NT 6.1) AppleWebKit/537.36 (KHTML, like Gecko) Chrome/41.0.2228.0 Safari/537.36'}\n",
        "            req = Request(site,headers=hdr)\n",
        "            page = urlopen(req)\n",
        "            soup = BeautifulSoup(page)\n",
        "            cars=soup.find('div',class_=\"gsc-ta-active gsc-ta-content\").ul\n",
        "            for i in cars:\n",
        "                j=i.find(\"div\",class_=\"contentspace\").find(\"p\",class_=\"contentheight\")\n",
        "                p=j.find(\"span\").text\n",
        "                Off_road.append(p)\n",
        "except:\n",
        "    try:\n",
        "        site= site\n",
        "        hdr = {'User-Agent': 'Mozilla/5.0 (Windows NT 6.1) AppleWebKit/537.36 (KHTML, like Gecko) Chrome/41.0.2228.0 Safari/537.36'}\n",
        "        req = Request(site,headers=hdr)\n",
        "        page = urlopen(req)\n",
        "        soup = BeautifulSoup(page)\n",
        "        cars=soup.find('div',class_=\"gsc-ta-active gsc-ta-content\").ul\n",
        "        for i in cars:\n",
        "            j=i.find(\"div\",class_=\"contentspace\").find(\"p\",class_=\"contentheight\")\n",
        "            p=j.find(\"span\").text\n",
        "            Off_road.append(p)\n",
        "    except:\n",
        "        print()"
      ]
    },
    {
      "cell_type": "code",
      "execution_count": null,
      "id": "7d34359a",
      "metadata": {
        "id": "7d34359a"
      },
      "outputs": [],
      "source": [
        "site= link + \"/clearance\"\n",
        "hdr = {'User-Agent': 'Mozilla/5.0 (Windows NT 6.1) AppleWebKit/537.36 (KHTML, like Gecko) Chrome/41.0.2228.0 Safari/537.36'}\n",
        "req = Request(site,headers=hdr)\n",
        "page = urlopen(req)\n",
        "soup = BeautifulSoup(page)"
      ]
    },
    {
      "cell_type": "code",
      "execution_count": null,
      "id": "3b9f4f9a",
      "metadata": {
        "id": "3b9f4f9a"
      },
      "outputs": [],
      "source": [
        "try:\n",
        "    ptt=soup.find(\"div\",class_=\"pagination\").ul\n",
        "    pages=ptt.find_all(\"li\")\n",
        "    for q in range(1,len(pages)-1):\n",
        "        if q==1:\n",
        "            site= site\n",
        "            hdr = {'User-Agent': 'Mozilla/5.0 (Windows NT 6.1) AppleWebKit/537.36 (KHTML, like Gecko) Chrome/41.0.2228.0 Safari/537.36'}\n",
        "            req = Request(site,headers=hdr)\n",
        "            page = urlopen(req)\n",
        "            soup = BeautifulSoup(page)\n",
        "            cars=soup.find('div',class_=\"gsc-ta-active gsc-ta-content\").ul\n",
        "            for i in cars:\n",
        "                j=i.find(\"div\",class_=\"contentspace\").find(\"p\",class_=\"contentheight\")\n",
        "                p=j.find(\"span\").text\n",
        "                Off_road.append(p)\n",
        "\n",
        "        else:\n",
        "            site=site\n",
        "            site=site+'/'+str(q)\n",
        "            hdr = {'User-Agent': 'Mozilla/5.0 (Windows NT 6.1) AppleWebKit/537.36 (KHTML, like Gecko) Chrome/41.0.2228.0 Safari/537.36'}\n",
        "            req = Request(site,headers=hdr)\n",
        "            page = urlopen(req)\n",
        "            soup = BeautifulSoup(page)\n",
        "            cars=soup.find('div',class_=\"gsc-ta-active gsc-ta-content\").ul\n",
        "            for i in cars:\n",
        "                j=i.find(\"div\",class_=\"contentspace\").find(\"p\",class_=\"contentheight\")\n",
        "                p=j.find(\"span\").text\n",
        "                Off_road.append(p)\n",
        "except:\n",
        "    try:\n",
        "        site= site\n",
        "        hdr = {'User-Agent': 'Mozilla/5.0 (Windows NT 6.1) AppleWebKit/537.36 (KHTML, like Gecko) Chrome/41.0.2228.0 Safari/537.36'}\n",
        "        req = Request(site,headers=hdr)\n",
        "        page = urlopen(req)\n",
        "        soup = BeautifulSoup(page)\n",
        "        cars=soup.find('div',class_=\"gsc-ta-active gsc-ta-content\").ul\n",
        "        for i in cars:\n",
        "            j=i.find(\"div\",class_=\"contentspace\").find(\"p\",class_=\"contentheight\")\n",
        "            p=j.find(\"span\").text\n",
        "            Off_road.append(p)\n",
        "    except:\n",
        "        print()"
      ]
    },
    {
      "cell_type": "code",
      "execution_count": null,
      "id": "15bec714",
      "metadata": {
        "id": "15bec714"
      },
      "outputs": [],
      "source": [
        "site= link1 + \"/clearance\"\n",
        "hdr = {'User-Agent': 'Mozilla/5.0 (Windows NT 6.1) AppleWebKit/537.36 (KHTML, like Gecko) Chrome/41.0.2228.0 Safari/537.36'}\n",
        "req = Request(site,headers=hdr)\n",
        "page = urlopen(req)\n",
        "soup = BeautifulSoup(page)\n",
        "try:\n",
        "    sec=soup.find('div',class_='pt-15').ul\n",
        "    list1=sec.find_all('li')\n",
        "    t=list1[1].text.strip(\"\\n\")[:-3]\n",
        "    if re.search(\"Clearance\",t):\n",
        "        sec=soup.find('div',class_='f-rvm').find_all(\"div\",class_=\"ncmt-c\")\n",
        "        for reviews in sec:\n",
        "            review=reviews.find(\"p\").text\n",
        "            Off_road.append(review)\n",
        "except:\n",
        "    print()"
      ]
    },
    {
      "cell_type": "code",
      "execution_count": null,
      "id": "69f193be",
      "metadata": {
        "id": "69f193be"
      },
      "outputs": [],
      "source": [
        "site= link + \"/power\"\n",
        "hdr = {'User-Agent': 'Mozilla/5.0 (Windows NT 6.1) AppleWebKit/537.36 (KHTML, like Gecko) Chrome/41.0.2228.0 Safari/537.36'}\n",
        "req = Request(site,headers=hdr)\n",
        "page = urlopen(req)\n",
        "soup = BeautifulSoup(page)"
      ]
    },
    {
      "cell_type": "code",
      "execution_count": null,
      "id": "70824181",
      "metadata": {
        "id": "70824181"
      },
      "outputs": [],
      "source": [
        "try:\n",
        "    ptt=soup.find(\"div\",class_=\"pagination\").ul\n",
        "    pages=ptt.find_all(\"li\")\n",
        "    for q in range(1,len(pages)-1):\n",
        "        if q==1:\n",
        "            site= site\n",
        "            hdr = {'User-Agent': 'Mozilla/5.0 (Windows NT 6.1) AppleWebKit/537.36 (KHTML, like Gecko) Chrome/41.0.2228.0 Safari/537.36'}\n",
        "            req = Request(site,headers=hdr)\n",
        "            page = urlopen(req)\n",
        "            soup = BeautifulSoup(page)\n",
        "            cars=soup.find('div',class_=\"gsc-ta-active gsc-ta-content\").ul\n",
        "            for i in cars:\n",
        "                j=i.find(\"div\",class_=\"contentspace\").find(\"p\",class_=\"contentheight\")\n",
        "                p=j.find(\"span\").text\n",
        "                Off_road.append(p)\n",
        "        else:\n",
        "            site=site\n",
        "            site=site+'/'+str(q)\n",
        "            hdr = {'User-Agent': 'Mozilla/5.0 (Windows NT 6.1) AppleWebKit/537.36 (KHTML, like Gecko) Chrome/41.0.2228.0 Safari/537.36'}\n",
        "            req = Request(site,headers=hdr)\n",
        "            page = urlopen(req)\n",
        "            soup = BeautifulSoup(page)\n",
        "            cars=soup.find('div',class_=\"gsc-ta-active gsc-ta-content\").ul\n",
        "            for i in cars:\n",
        "                j=i.find(\"div\",class_=\"contentspace\").find(\"p\",class_=\"contentheight\")\n",
        "                p=j.find(\"span\").text\n",
        "                Off_road.append(p)\n",
        "except:\n",
        "    try:\n",
        "        site= site\n",
        "        hdr = {'User-Agent': 'Mozilla/5.0 (Windows NT 6.1) AppleWebKit/537.36 (KHTML, like Gecko) Chrome/41.0.2228.0 Safari/537.36'}\n",
        "        req = Request(site,headers=hdr)\n",
        "        page = urlopen(req)\n",
        "        soup = BeautifulSoup(page)\n",
        "        cars=soup.find('div',class_=\"gsc-ta-active gsc-ta-content\").ul\n",
        "        for i in cars:\n",
        "            j=i.find(\"div\",class_=\"contentspace\").find(\"p\",class_=\"contentheight\")\n",
        "            p=j.find(\"span\").text\n",
        "            Off_road.append(p)\n",
        "    except:\n",
        "        print()"
      ]
    },
    {
      "cell_type": "code",
      "execution_count": null,
      "id": "da28b322",
      "metadata": {
        "id": "da28b322"
      },
      "outputs": [],
      "source": [
        "site= link1 + \"/power\"\n",
        "hdr = {'User-Agent': 'Mozilla/5.0 (Windows NT 6.1) AppleWebKit/537.36 (KHTML, like Gecko) Chrome/41.0.2228.0 Safari/537.36'}\n",
        "req = Request(site,headers=hdr)\n",
        "page = urlopen(req)\n",
        "soup = BeautifulSoup(page)\n",
        "try:\n",
        "    sec=soup.find('div',class_='pt-15').ul\n",
        "    list1=sec.find_all('li')\n",
        "    t=list1[1].text.strip(\"\\n\")[:-3]\n",
        "    if re.search(\"Power\",t):\n",
        "        sec=soup.find('div',class_='f-rvm').find_all(\"div\",class_=\"ncmt-c\")\n",
        "        for reviews in sec:\n",
        "            review=reviews.find(\"p\").text\n",
        "            Off_road.append(review)\n",
        "except:\n",
        "    print()"
      ]
    },
    {
      "cell_type": "code",
      "execution_count": null,
      "id": "15b9c5ac",
      "metadata": {
        "id": "15b9c5ac"
      },
      "outputs": [],
      "source": [
        "site= link1 + \"/torque\"\n",
        "hdr = {'User-Agent': 'Mozilla/5.0 (Windows NT 6.1) AppleWebKit/537.36 (KHTML, like Gecko) Chrome/41.0.2228.0 Safari/537.36'}\n",
        "req = Request(site,headers=hdr)\n",
        "page = urlopen(req)\n",
        "soup = BeautifulSoup(page)"
      ]
    },
    {
      "cell_type": "code",
      "execution_count": null,
      "id": "01523b72",
      "metadata": {
        "id": "01523b72"
      },
      "outputs": [],
      "source": [
        "try:\n",
        "    ptt=soup.find(\"div\",class_=\"pagination\").ul\n",
        "    pages=ptt.find_all(\"li\")\n",
        "    for q in range(1,len(pages)-1):\n",
        "        if q==1:\n",
        "            site= site\n",
        "            hdr = {'User-Agent': 'Mozilla/5.0 (Windows NT 6.1) AppleWebKit/537.36 (KHTML, like Gecko) Chrome/41.0.2228.0 Safari/537.36'}\n",
        "            req = Request(site,headers=hdr)\n",
        "            page = urlopen(req)\n",
        "            soup = BeautifulSoup(page)\n",
        "            cars=soup.find('div',class_=\"gsc-ta-active gsc-ta-content\").ul\n",
        "            for i in cars:\n",
        "                j=i.find(\"div\",class_=\"contentspace\").find(\"p\",class_=\"contentheight\")\n",
        "                p=j.find(\"span\").text\n",
        "                Off_road.append(p)\n",
        "        else:\n",
        "            site=site\n",
        "            site=site+'/'+str(q)\n",
        "            hdr = {'User-Agent': 'Mozilla/5.0 (Windows NT 6.1) AppleWebKit/537.36 (KHTML, like Gecko) Chrome/41.0.2228.0 Safari/537.36'}\n",
        "            req = Request(site,headers=hdr)\n",
        "            page = urlopen(req)\n",
        "            soup = BeautifulSoup(page)\n",
        "            cars=soup.find('div',class_=\"gsc-ta-active gsc-ta-content\").ul\n",
        "            for i in cars:\n",
        "                j=i.find(\"div\",class_=\"contentspace\").find(\"p\",class_=\"contentheight\")\n",
        "                p=j.find(\"span\").text\n",
        "                Off_road.append(p)\n",
        "except:\n",
        "    try:\n",
        "        site= site\n",
        "        hdr = {'User-Agent': 'Mozilla/5.0 (Windows NT 6.1) AppleWebKit/537.36 (KHTML, like Gecko) Chrome/41.0.2228.0 Safari/537.36'}\n",
        "        req = Request(site,headers=hdr)\n",
        "        page = urlopen(req)\n",
        "        soup = BeautifulSoup(page)\n",
        "        cars=soup.find('div',class_=\"gsc-ta-active gsc-ta-content\").ul\n",
        "        for i in cars:\n",
        "            j=i.find(\"div\",class_=\"contentspace\").find(\"p\",class_=\"contentheight\")\n",
        "            p=j.find(\"span\").text\n",
        "            Off_road.append(p)\n",
        "    except:\n",
        "        print()"
      ]
    },
    {
      "cell_type": "code",
      "execution_count": null,
      "id": "760588ba",
      "metadata": {
        "id": "760588ba"
      },
      "outputs": [],
      "source": [
        "site= link1 + \"/torque\"\n",
        "hdr = {'User-Agent': 'Mozilla/5.0 (Windows NT 6.1) AppleWebKit/537.36 (KHTML, like Gecko) Chrome/41.0.2228.0 Safari/537.36'}\n",
        "req = Request(site,headers=hdr)\n",
        "page = urlopen(req)\n",
        "soup = BeautifulSoup(page)\n",
        "try:\n",
        "    sec=soup.find('div',class_='pt-15').ul\n",
        "    list1=sec.find_all('li')\n",
        "    t=list1[1].text.strip(\"\\n\")[:-3]\n",
        "    if re.search(\"Torque\",t):\n",
        "        sec=soup.find('div',class_='f-rvm').find_all(\"div\",class_=\"ncmt-c\")\n",
        "        for reviews in sec:\n",
        "            review=reviews.find(\"p\").text\n",
        "            Off_road.append(review)\n",
        "except:\n",
        "    print()"
      ]
    },
    {
      "cell_type": "code",
      "execution_count": null,
      "id": "1badb8bb",
      "metadata": {
        "id": "1badb8bb"
      },
      "outputs": [],
      "source": [
        "len(Off_road)"
      ]
    },
    {
      "cell_type": "markdown",
      "id": "4c61fbd8",
      "metadata": {
        "id": "4c61fbd8"
      },
      "source": [
        "# Streering"
      ]
    },
    {
      "cell_type": "code",
      "execution_count": null,
      "id": "95d7f5bd",
      "metadata": {
        "id": "95d7f5bd"
      },
      "outputs": [],
      "source": [
        "site= link + \"/steering\"\n",
        "hdr = {'User-Agent': 'Mozilla/5.0 (Windows NT 6.1) AppleWebKit/537.36 (KHTML, like Gecko) Chrome/41.0.2228.0 Safari/537.36'}\n",
        "req = Request(site,headers=hdr)\n",
        "page = urlopen(req)\n",
        "soup = BeautifulSoup(page)\n",
        "Streering=[]"
      ]
    },
    {
      "cell_type": "code",
      "execution_count": null,
      "id": "96c216dc",
      "metadata": {
        "id": "96c216dc"
      },
      "outputs": [],
      "source": [
        "try:\n",
        "    ptt=soup.find(\"div\",class_=\"pagination\").ul\n",
        "    pages=ptt.find_all(\"li\")\n",
        "    for q in range(1,len(pages)-1):\n",
        "        if q==1:\n",
        "            site= site\n",
        "            hdr = {'User-Agent': 'Mozilla/5.0 (Windows NT 6.1) AppleWebKit/537.36 (KHTML, like Gecko) Chrome/41.0.2228.0 Safari/537.36'}\n",
        "            req = Request(site,headers=hdr)\n",
        "            page = urlopen(req)\n",
        "            soup = BeautifulSoup(page)\n",
        "            cars=soup.find('div',class_=\"gsc-ta-active gsc-ta-content\").ul\n",
        "            for i in cars:\n",
        "                j=i.find(\"div\",class_=\"contentspace\").find(\"p\",class_=\"contentheight\")\n",
        "                p=j.find(\"span\").text\n",
        "                Streering.append(p)\n",
        "        else:\n",
        "            site=site\n",
        "            site=site+'/'+str(q)\n",
        "            hdr = {'User-Agent': 'Mozilla/5.0 (Windows NT 6.1) AppleWebKit/537.36 (KHTML, like Gecko) Chrome/41.0.2228.0 Safari/537.36'}\n",
        "            req = Request(site,headers=hdr)\n",
        "            page = urlopen(req)\n",
        "            soup = BeautifulSoup(page)\n",
        "            cars=soup.find('div',class_=\"gsc-ta-active gsc-ta-content\").ul\n",
        "            for i in cars:\n",
        "                j=i.find(\"div\",class_=\"contentspace\").find(\"p\",class_=\"contentheight\")\n",
        "                p=j.find(\"span\").text\n",
        "                Streering.append(p)\n",
        "except:\n",
        "    try:\n",
        "        site= site\n",
        "        hdr = {'User-Agent': 'Mozilla/5.0 (Windows NT 6.1) AppleWebKit/537.36 (KHTML, like Gecko) Chrome/41.0.2228.0 Safari/537.36'}\n",
        "        req = Request(site,headers=hdr)\n",
        "        page = urlopen(req)\n",
        "        soup = BeautifulSoup(page)\n",
        "        cars=soup.find('div',class_=\"gsc-ta-active gsc-ta-content\").ul\n",
        "        for i in cars:\n",
        "            j=i.find(\"div\",class_=\"contentspace\").find(\"p\",class_=\"contentheight\")\n",
        "            p=j.find(\"span\").text\n",
        "            Streering.append(p)\n",
        "    except:\n",
        "        print()"
      ]
    },
    {
      "cell_type": "code",
      "execution_count": null,
      "id": "6cde7ed3",
      "metadata": {
        "id": "6cde7ed3"
      },
      "outputs": [],
      "source": [
        "site= link + \"/steering-wheel\"\n",
        "hdr = {'User-Agent': 'Mozilla/5.0 (Windows NT 6.1) AppleWebKit/537.36 (KHTML, like Gecko) Chrome/41.0.2228.0 Safari/537.36'}\n",
        "req = Request(site,headers=hdr)\n",
        "page = urlopen(req)\n",
        "soup = BeautifulSoup(page)"
      ]
    },
    {
      "cell_type": "code",
      "execution_count": null,
      "id": "9a75b21f",
      "metadata": {
        "id": "9a75b21f"
      },
      "outputs": [],
      "source": [
        "try:\n",
        "    ptt=soup.find(\"div\",class_=\"pagination\").ul\n",
        "    pages=ptt.find_all(\"li\")\n",
        "    for q in range(1,len(pages)-1):\n",
        "        if q==1:\n",
        "            site= site\n",
        "            hdr = {'User-Agent': 'Mozilla/5.0 (Windows NT 6.1) AppleWebKit/537.36 (KHTML, like Gecko) Chrome/41.0.2228.0 Safari/537.36'}\n",
        "            req = Request(site,headers=hdr)\n",
        "            page = urlopen(req)\n",
        "            soup = BeautifulSoup(page)\n",
        "            cars=soup.find('div',class_=\"gsc-ta-active gsc-ta-content\").ul\n",
        "            for i in cars:\n",
        "                j=i.find(\"div\",class_=\"contentspace\").find(\"p\",class_=\"contentheight\")\n",
        "                p=j.find(\"span\").text\n",
        "                Streering.append(p)\n",
        "        else:\n",
        "            site=site\n",
        "            site=site+'/'+str(q)\n",
        "            hdr = {'User-Agent': 'Mozilla/5.0 (Windows NT 6.1) AppleWebKit/537.36 (KHTML, like Gecko) Chrome/41.0.2228.0 Safari/537.36'}\n",
        "            req = Request(site,headers=hdr)\n",
        "            page = urlopen(req)\n",
        "            soup = BeautifulSoup(page)\n",
        "            cars=soup.find('div',class_=\"gsc-ta-active gsc-ta-content\").ul\n",
        "            for i in cars:\n",
        "                j=i.find(\"div\",class_=\"contentspace\").find(\"p\",class_=\"contentheight\")\n",
        "                p=j.find(\"span\").text\n",
        "                Streering.append(p)\n",
        "except:\n",
        "    try:\n",
        "        site= site\n",
        "        hdr = {'User-Agent': 'Mozilla/5.0 (Windows NT 6.1) AppleWebKit/537.36 (KHTML, like Gecko) Chrome/41.0.2228.0 Safari/537.36'}\n",
        "        req = Request(site,headers=hdr)\n",
        "        page = urlopen(req)\n",
        "        soup = BeautifulSoup(page)\n",
        "        cars=soup.find('div',class_=\"gsc-ta-active gsc-ta-content\").ul\n",
        "        for i in cars:\n",
        "            j=i.find(\"div\",class_=\"contentspace\").find(\"p\",class_=\"contentheight\")\n",
        "            p=j.find(\"span\").text\n",
        "            Streering.append(p)\n",
        "    except:\n",
        "        print()"
      ]
    },
    {
      "cell_type": "code",
      "execution_count": null,
      "id": "874f3793",
      "metadata": {
        "id": "874f3793"
      },
      "outputs": [],
      "source": [
        "len(Streering)"
      ]
    },
    {
      "cell_type": "code",
      "execution_count": null,
      "id": "3c3dc354",
      "metadata": {
        "id": "3c3dc354"
      },
      "outputs": [],
      "source": [
        "df=pd.DataFrame({\"Streering\":Streering})"
      ]
    },
    {
      "cell_type": "code",
      "execution_count": null,
      "id": "94ad7e12",
      "metadata": {
        "id": "94ad7e12"
      },
      "outputs": [],
      "source": [
        "df.to_csv(\"Streering.csv\")"
      ]
    },
    {
      "cell_type": "markdown",
      "id": "6dc0878c",
      "metadata": {
        "id": "6dc0878c"
      },
      "source": [
        "# Ride"
      ]
    },
    {
      "cell_type": "code",
      "execution_count": null,
      "id": "c0fdf005",
      "metadata": {
        "id": "c0fdf005"
      },
      "outputs": [],
      "source": [
        "site= link + \"/steering\"\n",
        "hdr = {'User-Agent': 'Mozilla/5.0 (Windows NT 6.1) AppleWebKit/537.36 (KHTML, like Gecko) Chrome/41.0.2228.0 Safari/537.36'}\n",
        "req = Request(site,headers=hdr)\n",
        "page = urlopen(req)\n",
        "soup = BeautifulSoup(page)\n",
        "Ride=[]"
      ]
    },
    {
      "cell_type": "code",
      "execution_count": null,
      "id": "29c65f87",
      "metadata": {
        "id": "29c65f87"
      },
      "outputs": [],
      "source": [
        "try:\n",
        "    ptt=soup.find(\"div\",class_=\"pagination\").ul\n",
        "    pages=ptt.find_all(\"li\")\n",
        "    for q in range(1,len(pages)-1):\n",
        "        if q==1:\n",
        "            site= site\n",
        "            hdr = {'User-Agent': 'Mozilla/5.0 (Windows NT 6.1) AppleWebKit/537.36 (KHTML, like Gecko) Chrome/41.0.2228.0 Safari/537.36'}\n",
        "            req = Request(site,headers=hdr)\n",
        "            page = urlopen(req)\n",
        "            soup = BeautifulSoup(page)\n",
        "            cars=soup.find('div',class_=\"gsc-ta-active gsc-ta-content\").ul\n",
        "            for i in cars:\n",
        "                j=i.find(\"div\",class_=\"contentspace\").find(\"p\",class_=\"contentheight\")\n",
        "                p=j.find(\"span\").text\n",
        "                Ride.append(p)\n",
        "        else:\n",
        "            site=site\n",
        "            site=site+'/'+str(q)\n",
        "            hdr = {'User-Agent': 'Mozilla/5.0 (Windows NT 6.1) AppleWebKit/537.36 (KHTML, like Gecko) Chrome/41.0.2228.0 Safari/537.36'}\n",
        "            req = Request(site,headers=hdr)\n",
        "            page = urlopen(req)\n",
        "            soup = BeautifulSoup(page)\n",
        "            cars=soup.find('div',class_=\"gsc-ta-active gsc-ta-content\").ul\n",
        "            for i in cars:\n",
        "                j=i.find(\"div\",class_=\"contentspace\").find(\"p\",class_=\"contentheight\")\n",
        "                p=j.find(\"span\").text\n",
        "                Ride.append(p)\n",
        "except:\n",
        "    try:\n",
        "\n",
        "        site= site\n",
        "        hdr = {'User-Agent': 'Mozilla/5.0 (Windows NT 6.1) AppleWebKit/537.36 (KHTML, like Gecko) Chrome/41.0.2228.0 Safari/537.36'}\n",
        "        req = Request(site,headers=hdr)\n",
        "        page = urlopen(req)\n",
        "        soup = BeautifulSoup(page)\n",
        "        cars=soup.find('div',class_=\"gsc-ta-active gsc-ta-content\").ul\n",
        "        for i in cars:\n",
        "            j=i.find(\"div\",class_=\"contentspace\").find(\"p\",class_=\"contentheight\")\n",
        "            p=j.find(\"span\").text\n",
        "            Ride.append(p)\n",
        "    except:\n",
        "        print()"
      ]
    },
    {
      "cell_type": "code",
      "execution_count": null,
      "id": "816a51eb",
      "metadata": {
        "id": "816a51eb"
      },
      "outputs": [],
      "source": [
        "site= link + \"/driver\"\n",
        "hdr = {'User-Agent': 'Mozilla/5.0 (Windows NT 6.1) AppleWebKit/537.36 (KHTML, like Gecko) Chrome/41.0.2228.0 Safari/537.36'}\n",
        "req = Request(site,headers=hdr)\n",
        "page = urlopen(req)\n",
        "soup = BeautifulSoup(page)"
      ]
    },
    {
      "cell_type": "code",
      "execution_count": null,
      "id": "2aec174c",
      "metadata": {
        "id": "2aec174c"
      },
      "outputs": [],
      "source": [
        "try:\n",
        "    ptt=soup.find(\"div\",class_=\"pagination\").ul\n",
        "    pages=ptt.find_all(\"li\")\n",
        "    for q in range(1,len(pages)-1):\n",
        "        if q==1:\n",
        "            site= site\n",
        "            hdr = {'User-Agent': 'Mozilla/5.0 (Windows NT 6.1) AppleWebKit/537.36 (KHTML, like Gecko) Chrome/41.0.2228.0 Safari/537.36'}\n",
        "            req = Request(site,headers=hdr)\n",
        "            page = urlopen(req)\n",
        "            soup = BeautifulSoup(page)\n",
        "            cars=soup.find('div',class_=\"gsc-ta-active gsc-ta-content\").ul\n",
        "            for i in cars:\n",
        "                j=i.find(\"div\",class_=\"contentspace\").find(\"p\",class_=\"contentheight\")\n",
        "                p=j.find(\"span\").text\n",
        "                Ride.append(p)\n",
        "        else:\n",
        "            site=site\n",
        "            site=site+'/'+str(q)\n",
        "            hdr = {'User-Agent': 'Mozilla/5.0 (Windows NT 6.1) AppleWebKit/537.36 (KHTML, like Gecko) Chrome/41.0.2228.0 Safari/537.36'}\n",
        "            req = Request(site,headers=hdr)\n",
        "            page = urlopen(req)\n",
        "            soup = BeautifulSoup(page)\n",
        "            cars=soup.find('div',class_=\"gsc-ta-active gsc-ta-content\").ul\n",
        "            for i in cars:\n",
        "                j=i.find(\"div\",class_=\"contentspace\").find(\"p\",class_=\"contentheight\")\n",
        "                p=j.find(\"span\").text\n",
        "                Ride.append(p)\n",
        "except:\n",
        "    try:\n",
        "        site= site\n",
        "        hdr = {'User-Agent': 'Mozilla/5.0 (Windows NT 6.1) AppleWebKit/537.36 (KHTML, like Gecko) Chrome/41.0.2228.0 Safari/537.36'}\n",
        "        req = Request(site,headers=hdr)\n",
        "        page = urlopen(req)\n",
        "        soup = BeautifulSoup(page)\n",
        "        cars=soup.find('div',class_=\"gsc-ta-active gsc-ta-content\").ul\n",
        "        for i in cars:\n",
        "            j=i.find(\"div\",class_=\"contentspace\").find(\"p\",class_=\"contentheight\")\n",
        "            p=j.find(\"span\").text\n",
        "            Ride.append(p)\n",
        "    except:\n",
        "        print()"
      ]
    },
    {
      "cell_type": "code",
      "execution_count": null,
      "id": "e485d64f",
      "metadata": {
        "id": "e485d64f"
      },
      "outputs": [],
      "source": [
        "site= link1 + \"/driver\"\n",
        "hdr = {'User-Agent': 'Mozilla/5.0 (Windows NT 6.1) AppleWebKit/537.36 (KHTML, like Gecko) Chrome/41.0.2228.0 Safari/537.36'}\n",
        "req = Request(site,headers=hdr)\n",
        "page = urlopen(req)\n",
        "soup = BeautifulSoup(page)\n",
        "try:\n",
        "    sec=soup.find('div',class_='pt-15').ul\n",
        "    list1=sec.find_all('li')\n",
        "    t=list1[1].text.strip(\"\\n\")[:-3]\n",
        "    if re.search(\"Driver\",t):\n",
        "        sec=soup.find('div',class_='f-rvm').find_all(\"div\",class_=\"ncmt-c\")\n",
        "        for reviews in sec:\n",
        "            review=reviews.find(\"p\").text\n",
        "            Ride.append(review)\n",
        "except:\n",
        "    print()"
      ]
    },
    {
      "cell_type": "code",
      "execution_count": null,
      "id": "77008807",
      "metadata": {
        "id": "77008807"
      },
      "outputs": [],
      "source": [
        "len(Ride)"
      ]
    },
    {
      "cell_type": "code",
      "execution_count": null,
      "id": "de960cc2",
      "metadata": {
        "id": "de960cc2"
      },
      "outputs": [],
      "source": [
        "df=pd.DataFrame({\"Ride\":Ride})"
      ]
    },
    {
      "cell_type": "code",
      "execution_count": null,
      "id": "6ceb26bb",
      "metadata": {
        "id": "6ceb26bb"
      },
      "outputs": [],
      "source": [
        "df.to_csv(\"Ride.csv\")"
      ]
    },
    {
      "cell_type": "markdown",
      "id": "30b47723",
      "metadata": {
        "id": "30b47723"
      },
      "source": [
        "# Noice"
      ]
    },
    {
      "cell_type": "code",
      "execution_count": null,
      "id": "782b25d9",
      "metadata": {
        "id": "782b25d9"
      },
      "outputs": [],
      "source": [
        "site= link + \"/noise\"\n",
        "hdr = {'User-Agent': 'Mozilla/5.0 (Windows NT 6.1) AppleWebKit/537.36 (KHTML, like Gecko) Chrome/41.0.2228.0 Safari/537.36'}\n",
        "req = Request(site,headers=hdr)\n",
        "page = urlopen(req)\n",
        "soup = BeautifulSoup(page)\n",
        "Noice=[]"
      ]
    },
    {
      "cell_type": "code",
      "execution_count": null,
      "id": "f6076a14",
      "metadata": {
        "id": "f6076a14"
      },
      "outputs": [],
      "source": [
        "try:\n",
        "    ptt=soup.find(\"div\",class_=\"pagination\").ul\n",
        "    pages=ptt.find_all(\"li\")\n",
        "    for q in range(1,len(pages)-1):\n",
        "        if q==1:\n",
        "            site= site\n",
        "            hdr = {'User-Agent': 'Mozilla/5.0 (Windows NT 6.1) AppleWebKit/537.36 (KHTML, like Gecko) Chrome/41.0.2228.0 Safari/537.36'}\n",
        "            req = Request(site,headers=hdr)\n",
        "            page = urlopen(req)\n",
        "            soup = BeautifulSoup(page)\n",
        "            cars=soup.find('div',class_=\"gsc-ta-active gsc-ta-content\").ul\n",
        "            for i in cars:\n",
        "                j=i.find(\"div\",class_=\"contentspace\").find(\"p\",class_=\"contentheight\")\n",
        "                p=j.find(\"span\").text\n",
        "                Noice.append(p)\n",
        "        else:\n",
        "            site=site\n",
        "            site=site+'/'+str(q)\n",
        "            hdr = {'User-Agent': 'Mozilla/5.0 (Windows NT 6.1) AppleWebKit/537.36 (KHTML, like Gecko) Chrome/41.0.2228.0 Safari/537.36'}\n",
        "            req = Request(site,headers=hdr)\n",
        "            page = urlopen(req)\n",
        "            soup = BeautifulSoup(page)\n",
        "            cars=soup.find('div',class_=\"gsc-ta-active gsc-ta-content\").ul\n",
        "            for i in cars:\n",
        "                j=i.find(\"div\",class_=\"contentspace\").find(\"p\",class_=\"contentheight\")\n",
        "                p=j.find(\"span\").text\n",
        "                Noice.append(p)\n",
        "except:\n",
        "    try:\n",
        "        site= site\n",
        "        hdr = {'User-Agent': 'Mozilla/5.0 (Windows NT 6.1) AppleWebKit/537.36 (KHTML, like Gecko) Chrome/41.0.2228.0 Safari/537.36'}\n",
        "        req = Request(site,headers=hdr)\n",
        "        page = urlopen(req)\n",
        "        soup = BeautifulSoup(page)\n",
        "        cars=soup.find('div',class_=\"gsc-ta-active gsc-ta-content\").ul\n",
        "        for i in cars:\n",
        "            j=i.find(\"div\",class_=\"contentspace\").find(\"p\",class_=\"contentheight\")\n",
        "            p=j.find(\"span\").text\n",
        "            Noice.append(p)\n",
        "    except:\n",
        "        print()"
      ]
    },
    {
      "cell_type": "code",
      "execution_count": null,
      "id": "65cfe9bb",
      "metadata": {
        "id": "65cfe9bb"
      },
      "outputs": [],
      "source": [
        "site= link1 + \"/noise\"\n",
        "hdr = {'User-Agent': 'Mozilla/5.0 (Windows NT 6.1) AppleWebKit/537.36 (KHTML, like Gecko) Chrome/41.0.2228.0 Safari/537.36'}\n",
        "req = Request(site,headers=hdr)\n",
        "page = urlopen(req)\n",
        "soup = BeautifulSoup(page)\n",
        "try:\n",
        "    sec=soup.find('div',class_='pt-15').ul\n",
        "    list1=sec.find_all('li')\n",
        "    t=list1[1].text.strip(\"\\n\")[:-3]\n",
        "    if re.search(\"Noise\",t):\n",
        "        sec=soup.find('div',class_='f-rvm').find_all(\"div\",class_=\"ncmt-c\")\n",
        "        for reviews in sec:\n",
        "            review=reviews.find(\"p\").text\n",
        "            Noice.append(review)\n",
        "except:\n",
        "    print()"
      ]
    },
    {
      "cell_type": "code",
      "execution_count": null,
      "id": "fbbdf64e",
      "metadata": {
        "id": "fbbdf64e"
      },
      "outputs": [],
      "source": [
        "len(Noice)"
      ]
    },
    {
      "cell_type": "markdown",
      "id": "b7005dfc",
      "metadata": {
        "id": "b7005dfc"
      },
      "source": [
        "# Visibility & Package"
      ]
    },
    {
      "cell_type": "code",
      "execution_count": null,
      "id": "b8f2a9d9",
      "metadata": {
        "id": "b8f2a9d9"
      },
      "outputs": [],
      "source": [
        "site= link + \"/headlamp\"\n",
        "hdr = {'User-Agent': 'Mozilla/5.0 (Windows NT 6.1) AppleWebKit/537.36 (KHTML, like Gecko) Chrome/41.0.2228.0 Safari/537.36'}\n",
        "req = Request(site,headers=hdr)\n",
        "page = urlopen(req)\n",
        "soup = BeautifulSoup(page)\n",
        "Vis=[]"
      ]
    },
    {
      "cell_type": "code",
      "execution_count": null,
      "id": "a8e0ca2e",
      "metadata": {
        "id": "a8e0ca2e"
      },
      "outputs": [],
      "source": [
        "try:\n",
        "    ptt=soup.find(\"div\",class_=\"pagination\").ul\n",
        "    pages=ptt.find_all(\"li\")\n",
        "    for q in range(1,len(pages)-1):\n",
        "        if q==1:\n",
        "            site= site\n",
        "            hdr = {'User-Agent': 'Mozilla/5.0 (Windows NT 6.1) AppleWebKit/537.36 (KHTML, like Gecko) Chrome/41.0.2228.0 Safari/537.36'}\n",
        "            req = Request(site,headers=hdr)\n",
        "            page = urlopen(req)\n",
        "            soup = BeautifulSoup(page)\n",
        "            cars=soup.find('div',class_=\"gsc-ta-active gsc-ta-content\").ul\n",
        "            for i in cars:\n",
        "                j=i.find(\"div\",class_=\"contentspace\").find(\"p\",class_=\"contentheight\")\n",
        "                p=j.find(\"span\").text\n",
        "                Vis.append(p)\n",
        "        else:\n",
        "            site=site\n",
        "            site=site+'/'+str(q)\n",
        "            hdr = {'User-Agent': 'Mozilla/5.0 (Windows NT 6.1) AppleWebKit/537.36 (KHTML, like Gecko) Chrome/41.0.2228.0 Safari/537.36'}\n",
        "            req = Request(site,headers=hdr)\n",
        "            page = urlopen(req)\n",
        "            soup = BeautifulSoup(page)\n",
        "            cars=soup.find('div',class_=\"gsc-ta-active gsc-ta-content\").ul\n",
        "            for i in cars:\n",
        "                j=i.find(\"div\",class_=\"contentspace\").find(\"p\",class_=\"contentheight\")\n",
        "                p=j.find(\"span\").text\n",
        "                Vis.append(p)\n",
        "except:\n",
        "    try:\n",
        "        site= site\n",
        "        hdr = {'User-Agent': 'Mozilla/5.0 (Windows NT 6.1) AppleWebKit/537.36 (KHTML, like Gecko) Chrome/41.0.2228.0 Safari/537.36'}\n",
        "        req = Request(site,headers=hdr)\n",
        "        page = urlopen(req)\n",
        "        soup = BeautifulSoup(page)\n",
        "        cars=soup.find('div',class_=\"gsc-ta-active gsc-ta-content\").ul\n",
        "        for i in cars:\n",
        "            j=i.find(\"div\",class_=\"contentspace\").find(\"p\",class_=\"contentheight\")\n",
        "            p=j.find(\"span\").text\n",
        "            Vis.append(p)\n",
        "    except:\n",
        "        print()"
      ]
    },
    {
      "cell_type": "code",
      "execution_count": null,
      "id": "df7acb7b",
      "metadata": {
        "id": "df7acb7b"
      },
      "outputs": [],
      "source": [
        "site= link1 + \"/lights\"\n",
        "hdr = {'User-Agent': 'Mozilla/5.0 (Windows NT 6.1) AppleWebKit/537.36 (KHTML, like Gecko) Chrome/41.0.2228.0 Safari/537.36'}\n",
        "req = Request(site,headers=hdr)\n",
        "page = urlopen(req)\n",
        "soup = BeautifulSoup(page)\n",
        "try:\n",
        "    sec=soup.find('div',class_='pt-15').ul\n",
        "    list1=sec.find_all('li')\n",
        "    t=list1[1].text.strip(\"\\n\")[:-3]\n",
        "    if re.search(\"Lights\",t):\n",
        "        sec=soup.find('div',class_='f-rvm').find_all(\"div\",class_=\"ncmt-c\")\n",
        "        for reviews in sec:\n",
        "            review=reviews.find(\"p\").text\n",
        "            Vis.append(review)\n",
        "except:\n",
        "    print()"
      ]
    },
    {
      "cell_type": "code",
      "execution_count": null,
      "id": "a48a41ca",
      "metadata": {
        "id": "a48a41ca"
      },
      "outputs": [],
      "source": [
        "len(Vis)"
      ]
    },
    {
      "cell_type": "markdown",
      "id": "a4ab9233",
      "metadata": {
        "id": "a4ab9233"
      },
      "source": [
        "# Braking"
      ]
    },
    {
      "cell_type": "code",
      "execution_count": null,
      "id": "bddc92df",
      "metadata": {
        "id": "bddc92df"
      },
      "outputs": [],
      "source": [
        "site= link + \"/safety\"\n",
        "hdr = {'User-Agent': 'Mozilla/5.0 (Windows NT 6.1) AppleWebKit/537.36 (KHTML, like Gecko) Chrome/41.0.2228.0 Safari/537.36'}\n",
        "req = Request(site,headers=hdr)\n",
        "page = urlopen(req)\n",
        "soup = BeautifulSoup(page)\n",
        "Braking=[]"
      ]
    },
    {
      "cell_type": "code",
      "execution_count": null,
      "id": "bb18bae7",
      "metadata": {
        "id": "bb18bae7"
      },
      "outputs": [],
      "source": [
        "try:\n",
        "    ptt=soup.find(\"div\",class_=\"pagination\").ul\n",
        "    pages=ptt.find_all(\"li\")\n",
        "    for q in range(1,len(pages)-1):\n",
        "        if q==1:\n",
        "            site= site\n",
        "            hdr = {'User-Agent': 'Mozilla/5.0 (Windows NT 6.1) AppleWebKit/537.36 (KHTML, like Gecko) Chrome/41.0.2228.0 Safari/537.36'}\n",
        "            req = Request(site,headers=hdr)\n",
        "            page = urlopen(req)\n",
        "            soup = BeautifulSoup(page)\n",
        "            cars=soup.find('div',class_=\"gsc-ta-active gsc-ta-content\").ul\n",
        "            for i in cars:\n",
        "                j=i.find(\"div\",class_=\"contentspace\").find(\"p\",class_=\"contentheight\")\n",
        "                p=j.find(\"span\").text\n",
        "                Braking.append(p)\n",
        "        else:\n",
        "            site=site\n",
        "            site=site+'/'+str(q)\n",
        "            hdr = {'User-Agent': 'Mozilla/5.0 (Windows NT 6.1) AppleWebKit/537.36 (KHTML, like Gecko) Chrome/41.0.2228.0 Safari/537.36'}\n",
        "            req = Request(site,headers=hdr)\n",
        "            page = urlopen(req)\n",
        "            soup = BeautifulSoup(page)\n",
        "            cars=soup.find('div',class_=\"gsc-ta-active gsc-ta-content\").ul\n",
        "            for i in cars:\n",
        "                j=i.find(\"div\",class_=\"contentspace\").find(\"p\",class_=\"contentheight\")\n",
        "                p=j.find(\"span\").text\n",
        "                Braking.append(p)\n",
        "except:\n",
        "    try:\n",
        "        site= site\n",
        "        hdr = {'User-Agent': 'Mozilla/5.0 (Windows NT 6.1) AppleWebKit/537.36 (KHTML, like Gecko) Chrome/41.0.2228.0 Safari/537.36'}\n",
        "        req = Request(site,headers=hdr)\n",
        "        page = urlopen(req)\n",
        "        soup = BeautifulSoup(page)\n",
        "        cars=soup.find('div',class_=\"gsc-ta-active gsc-ta-content\").ul\n",
        "        for i in cars:\n",
        "            j=i.find(\"div\",class_=\"contentspace\").find(\"p\",class_=\"contentheight\")\n",
        "            p=j.find(\"span\").text\n",
        "            Braking.append(p)\n",
        "    except:\n",
        "        print()"
      ]
    },
    {
      "cell_type": "code",
      "execution_count": null,
      "id": "ae026352",
      "metadata": {
        "id": "ae026352"
      },
      "outputs": [],
      "source": [
        "site= link1 + \"/safety\"\n",
        "hdr = {'User-Agent': 'Mozilla/5.0 (Windows NT 6.1) AppleWebKit/537.36 (KHTML, like Gecko) Chrome/41.0.2228.0 Safari/537.36'}\n",
        "req = Request(site,headers=hdr)\n",
        "page = urlopen(req)\n",
        "soup = BeautifulSoup(page)\n",
        "try:\n",
        "    sec=soup.find('div',class_='pt-15').ul\n",
        "    list1=sec.find_all('li')\n",
        "    t=list1[1].text.strip(\"\\n\")[:-3]\n",
        "    if re.search(\"Safety\",t):\n",
        "        sec=soup.find('div',class_='f-rvm').find_all(\"div\",class_=\"ncmt-c\")\n",
        "        for reviews in sec:\n",
        "            review=reviews.find(\"p\").text\n",
        "            Braking.append(review)\n",
        "except:\n",
        "    print()"
      ]
    },
    {
      "cell_type": "code",
      "execution_count": null,
      "id": "8b77d58b",
      "metadata": {
        "id": "8b77d58b"
      },
      "outputs": [],
      "source": [
        "len(Braking)"
      ]
    },
    {
      "cell_type": "markdown",
      "id": "53c6bfbc",
      "metadata": {
        "id": "53c6bfbc"
      },
      "source": [
        "# Software Feature"
      ]
    },
    {
      "cell_type": "code",
      "execution_count": null,
      "id": "e151086a",
      "metadata": {
        "id": "e151086a"
      },
      "outputs": [],
      "source": [
        "site= link + \"/infotainment\"\n",
        "hdr = {'User-Agent': 'Mozilla/5.0 (Windows NT 6.1) AppleWebKit/537.36 (KHTML, like Gecko) Chrome/41.0.2228.0 Safari/537.36'}\n",
        "req = Request(site,headers=hdr)\n",
        "page = urlopen(req)\n",
        "soup = BeautifulSoup(page)\n",
        "Feature=[]"
      ]
    },
    {
      "cell_type": "code",
      "execution_count": null,
      "id": "3e49b4ac",
      "metadata": {
        "id": "3e49b4ac"
      },
      "outputs": [],
      "source": [
        "try:\n",
        "    ptt=soup.find(\"div\",class_=\"pagination\").ul\n",
        "    pages=ptt.find_all(\"li\")\n",
        "    for q in range(1,len(pages)-1):\n",
        "        if q==1:\n",
        "            site= site\n",
        "            hdr = {'User-Agent': 'Mozilla/5.0 (Windows NT 6.1) AppleWebKit/537.36 (KHTML, like Gecko) Chrome/41.0.2228.0 Safari/537.36'}\n",
        "            req = Request(site,headers=hdr)\n",
        "            page = urlopen(req)\n",
        "            soup = BeautifulSoup(page)\n",
        "            cars=soup.find('div',class_=\"gsc-ta-active gsc-ta-content\").ul\n",
        "            for i in cars:\n",
        "                j=i.find(\"div\",class_=\"contentspace\").find(\"p\",class_=\"contentheight\")\n",
        "                p=j.find(\"span\").text\n",
        "                Feature.append(p)\n",
        "        else:\n",
        "            site=site\n",
        "            site=site+'/'+str(q)\n",
        "            hdr = {'User-Agent': 'Mozilla/5.0 (Windows NT 6.1) AppleWebKit/537.36 (KHTML, like Gecko) Chrome/41.0.2228.0 Safari/537.36'}\n",
        "            req = Request(site,headers=hdr)\n",
        "            page = urlopen(req)\n",
        "            soup = BeautifulSoup(page)\n",
        "            cars=soup.find('div',class_=\"gsc-ta-active gsc-ta-content\").ul\n",
        "            for i in cars:\n",
        "                j=i.find(\"div\",class_=\"contentspace\").find(\"p\",class_=\"contentheight\")\n",
        "                p=j.find(\"span\").text\n",
        "                Feature.append(p)\n",
        "except:\n",
        "    try:\n",
        "        site= site\n",
        "        hdr = {'User-Agent': 'Mozilla/5.0 (Windows NT 6.1) AppleWebKit/537.36 (KHTML, like Gecko) Chrome/41.0.2228.0 Safari/537.36'}\n",
        "        req = Request(site,headers=hdr)\n",
        "        page = urlopen(req)\n",
        "        soup = BeautifulSoup(page)\n",
        "        cars=soup.find('div',class_=\"gsc-ta-active gsc-ta-content\").ul\n",
        "        for i in cars:\n",
        "            j=i.find(\"div\",class_=\"contentspace\").find(\"p\",class_=\"contentheight\")\n",
        "            p=j.find(\"span\").text\n",
        "            Feature.append(p)\n",
        "    except:\n",
        "        print()"
      ]
    },
    {
      "cell_type": "code",
      "execution_count": null,
      "id": "0bf56170",
      "metadata": {
        "id": "0bf56170"
      },
      "outputs": [],
      "source": [
        "len(Feature)"
      ]
    },
    {
      "cell_type": "code",
      "execution_count": null,
      "id": "cc882037",
      "metadata": {
        "id": "cc882037"
      },
      "outputs": [],
      "source": [
        "site= link + \"/sensors\"\n",
        "hdr = {'User-Agent': 'Mozilla/5.0 (Windows NT 6.1) AppleWebKit/537.36 (KHTML, like Gecko) Chrome/41.0.2228.0 Safari/537.36'}\n",
        "req = Request(site,headers=hdr)\n",
        "page = urlopen(req)\n",
        "soup = BeautifulSoup(page)"
      ]
    },
    {
      "cell_type": "code",
      "execution_count": null,
      "id": "de8ac2f5",
      "metadata": {
        "id": "de8ac2f5"
      },
      "outputs": [],
      "source": [
        "try:\n",
        "    ptt=soup.find(\"div\",class_=\"pagination\").ul\n",
        "    pages=ptt.find_all(\"li\")\n",
        "    for q in range(1,len(pages)-1):\n",
        "        if q==1:\n",
        "            site= site\n",
        "            hdr = {'User-Agent': 'Mozilla/5.0 (Windows NT 6.1) AppleWebKit/537.36 (KHTML, like Gecko) Chrome/41.0.2228.0 Safari/537.36'}\n",
        "            req = Request(site,headers=hdr)\n",
        "            page = urlopen(req)\n",
        "            soup = BeautifulSoup(page)\n",
        "            cars=soup.find('div',class_=\"gsc-ta-active gsc-ta-content\").ul\n",
        "            for i in cars:\n",
        "                j=i.find(\"div\",class_=\"contentspace\").find(\"p\",class_=\"contentheight\")\n",
        "                p=j.find(\"span\").text\n",
        "                Feature.append(p)\n",
        "        else:\n",
        "            site=site\n",
        "            site=site+'/'+str(q)\n",
        "            hdr = {'User-Agent': 'Mozilla/5.0 (Windows NT 6.1) AppleWebKit/537.36 (KHTML, like Gecko) Chrome/41.0.2228.0 Safari/537.36'}\n",
        "            req = Request(site,headers=hdr)\n",
        "            page = urlopen(req)\n",
        "            soup = BeautifulSoup(page)\n",
        "            cars=soup.find('div',class_=\"gsc-ta-active gsc-ta-content\").ul\n",
        "            for i in cars:\n",
        "                j=i.find(\"div\",class_=\"contentspace\").find(\"p\",class_=\"contentheight\")\n",
        "                p=j.find(\"span\").text\n",
        "                Feature.append(p)\n",
        "except:\n",
        "    try:\n",
        "        site= site\n",
        "        hdr = {'User-Agent': 'Mozilla/5.0 (Windows NT 6.1) AppleWebKit/537.36 (KHTML, like Gecko) Chrome/41.0.2228.0 Safari/537.36'}\n",
        "        req = Request(site,headers=hdr)\n",
        "        page = urlopen(req)\n",
        "        soup = BeautifulSoup(page)\n",
        "        cars=soup.find('div',class_=\"gsc-ta-active gsc-ta-content\").ul\n",
        "        for i in cars:\n",
        "            j=i.find(\"div\",class_=\"contentspace\").find(\"p\",class_=\"contentheight\")\n",
        "            p=j.find(\"span\").text\n",
        "            Feature.append(p)\n",
        "    except:\n",
        "        print()"
      ]
    },
    {
      "cell_type": "code",
      "execution_count": null,
      "id": "678f9f4d",
      "metadata": {
        "id": "678f9f4d"
      },
      "outputs": [],
      "source": [
        "len(Feature)"
      ]
    },
    {
      "cell_type": "code",
      "execution_count": null,
      "id": "fde9e7c0",
      "metadata": {
        "id": "fde9e7c0"
      },
      "outputs": [],
      "source": [
        "site= link + \"/touch-screen\"\n",
        "hdr = {'User-Agent': 'Mozilla/5.0 (Windows NT 6.1) AppleWebKit/537.36 (KHTML, like Gecko) Chrome/41.0.2228.0 Safari/537.36'}\n",
        "req = Request(site,headers=hdr)\n",
        "page = urlopen(req)\n",
        "soup = BeautifulSoup(page)"
      ]
    },
    {
      "cell_type": "code",
      "execution_count": null,
      "id": "2cf04229",
      "metadata": {
        "id": "2cf04229"
      },
      "outputs": [],
      "source": [
        "try:\n",
        "    ptt=soup.find(\"div\",class_=\"pagination\").ul\n",
        "    pages=ptt.find_all(\"li\")\n",
        "    for q in range(1,len(pages)-1):\n",
        "        if q==1:\n",
        "            site= site\n",
        "            hdr = {'User-Agent': 'Mozilla/5.0 (Windows NT 6.1) AppleWebKit/537.36 (KHTML, like Gecko) Chrome/41.0.2228.0 Safari/537.36'}\n",
        "            req = Request(site,headers=hdr)\n",
        "            page = urlopen(req)\n",
        "            soup = BeautifulSoup(page)\n",
        "            cars=soup.find('div',class_=\"gsc-ta-active gsc-ta-content\").ul\n",
        "            for i in cars:\n",
        "                j=i.find(\"div\",class_=\"contentspace\").find(\"p\",class_=\"contentheight\")\n",
        "                p=j.find(\"span\").text\n",
        "                Feature.append(p)\n",
        "        else:\n",
        "            site=site\n",
        "            site=site+'/'+str(q)\n",
        "            hdr = {'User-Agent': 'Mozilla/5.0 (Windows NT 6.1) AppleWebKit/537.36 (KHTML, like Gecko) Chrome/41.0.2228.0 Safari/537.36'}\n",
        "            req = Request(site,headers=hdr)\n",
        "            page = urlopen(req)\n",
        "            soup = BeautifulSoup(page)\n",
        "            cars=soup.find('div',class_=\"gsc-ta-active gsc-ta-content\").ul\n",
        "            for i in cars:\n",
        "                j=i.find(\"div\",class_=\"contentspace\").find(\"p\",class_=\"contentheight\")\n",
        "                p=j.find(\"span\").text\n",
        "                Feature.append(p)\n",
        "except:\n",
        "    try:\n",
        "        site= site\n",
        "        hdr = {'User-Agent': 'Mozilla/5.0 (Windows NT 6.1) AppleWebKit/537.36 (KHTML, like Gecko) Chrome/41.0.2228.0 Safari/537.36'}\n",
        "        req = Request(site,headers=hdr)\n",
        "        page = urlopen(req)\n",
        "        soup = BeautifulSoup(page)\n",
        "        cars=soup.find('div',class_=\"gsc-ta-active gsc-ta-content\").ul\n",
        "        for i in cars:\n",
        "            j=i.find(\"div\",class_=\"contentspace\").find(\"p\",class_=\"contentheight\")\n",
        "            p=j.find(\"span\").text\n",
        "            Feature.append(p)\n",
        "    except:\n",
        "        print()"
      ]
    },
    {
      "cell_type": "code",
      "execution_count": null,
      "id": "6a92b14c",
      "metadata": {
        "id": "6a92b14c"
      },
      "outputs": [],
      "source": [
        "len(Feature)"
      ]
    },
    {
      "cell_type": "code",
      "execution_count": null,
      "id": "9fd545bf",
      "metadata": {
        "id": "9fd545bf"
      },
      "outputs": [],
      "source": [
        "site= link1 + \"/infotainment\"\n",
        "hdr = {'User-Agent': 'Mozilla/5.0 (Windows NT 6.1) AppleWebKit/537.36 (KHTML, like Gecko) Chrome/41.0.2228.0 Safari/537.36'}\n",
        "req = Request(site,headers=hdr)\n",
        "page = urlopen(req)\n",
        "soup = BeautifulSoup(page)\n",
        "try:\n",
        "    sec=soup.find('div',class_='pt-15').ul\n",
        "    list1=sec.find_all('li')\n",
        "    t=list1[1].text.strip(\"\\n\")[:-3]\n",
        "    if re.search(\"Infotainment\",t):\n",
        "        sec=soup.find('div',class_='f-rvm').find_all(\"div\",class_=\"ncmt-c\")\n",
        "        for reviews in sec:\n",
        "            review=reviews.find(\"p\").text\n",
        "            Feature.append(review)\n",
        "except:\n",
        "    print()"
      ]
    },
    {
      "cell_type": "code",
      "execution_count": null,
      "id": "c9cd6fcf",
      "metadata": {
        "id": "c9cd6fcf"
      },
      "outputs": [],
      "source": [
        "len(Feature)"
      ]
    },
    {
      "cell_type": "markdown",
      "id": "a7f3384a",
      "metadata": {
        "id": "a7f3384a"
      },
      "source": [
        "# Handling"
      ]
    },
    {
      "cell_type": "code",
      "execution_count": null,
      "id": "eb3c00ac",
      "metadata": {
        "id": "eb3c00ac"
      },
      "outputs": [],
      "source": [
        "site= link + \"/steering\"\n",
        "hdr = {'User-Agent': 'Mozilla/5.0 (Windows NT 6.1) AppleWebKit/537.36 (KHTML, like Gecko) Chrome/41.0.2228.0 Safari/537.36'}\n",
        "req = Request(site,headers=hdr)\n",
        "page = urlopen(req)\n",
        "soup = BeautifulSoup(page)\n",
        "Handling=[]"
      ]
    },
    {
      "cell_type": "code",
      "execution_count": null,
      "id": "d37a4482",
      "metadata": {
        "id": "d37a4482"
      },
      "outputs": [],
      "source": [
        "try:\n",
        "    ptt=soup.find(\"div\",class_=\"pagination\").ul\n",
        "    pages=ptt.find_all(\"li\")\n",
        "    for q in range(1,len(pages)-1):\n",
        "        if q==1:\n",
        "            site= site\n",
        "            hdr = {'User-Agent': 'Mozilla/5.0 (Windows NT 6.1) AppleWebKit/537.36 (KHTML, like Gecko) Chrome/41.0.2228.0 Safari/537.36'}\n",
        "            req = Request(site,headers=hdr)\n",
        "            page = urlopen(req)\n",
        "            soup = BeautifulSoup(page)\n",
        "            cars=soup.find('div',class_=\"gsc-ta-active gsc-ta-content\").ul\n",
        "            for i in cars:\n",
        "                j=i.find(\"div\",class_=\"contentspace\").find(\"p\",class_=\"contentheight\")\n",
        "                p=j.find(\"span\").text\n",
        "                Handling.append(p)\n",
        "        else:\n",
        "            site=site\n",
        "            site=site+'/'+str(q)\n",
        "            hdr = {'User-Agent': 'Mozilla/5.0 (Windows NT 6.1) AppleWebKit/537.36 (KHTML, like Gecko) Chrome/41.0.2228.0 Safari/537.36'}\n",
        "            req = Request(site,headers=hdr)\n",
        "            page = urlopen(req)\n",
        "            soup = BeautifulSoup(page)\n",
        "            cars=soup.find('div',class_=\"gsc-ta-active gsc-ta-content\").ul\n",
        "            for i in cars:\n",
        "                j=i.find(\"div\",class_=\"contentspace\").find(\"p\",class_=\"contentheight\")\n",
        "                p=j.find(\"span\").text\n",
        "                Handling.append(p)\n",
        "except:\n",
        "    try:\n",
        "        site= site\n",
        "        hdr = {'User-Agent': 'Mozilla/5.0 (Windows NT 6.1) AppleWebKit/537.36 (KHTML, like Gecko) Chrome/41.0.2228.0 Safari/537.36'}\n",
        "        req = Request(site,headers=hdr)\n",
        "        page = urlopen(req)\n",
        "        soup = BeautifulSoup(page)\n",
        "        cars=soup.find('div',class_=\"gsc-ta-active gsc-ta-content\").ul\n",
        "        for i in cars:\n",
        "            j=i.find(\"div\",class_=\"contentspace\").find(\"p\",class_=\"contentheight\")\n",
        "            p=j.find(\"span\").text\n",
        "            Handling.append(p)\n",
        "    except:\n",
        "        print()"
      ]
    },
    {
      "cell_type": "code",
      "execution_count": null,
      "id": "e6662b68",
      "metadata": {
        "id": "e6662b68"
      },
      "outputs": [],
      "source": [
        "len(Handling)"
      ]
    },
    {
      "cell_type": "code",
      "execution_count": null,
      "id": "3d549583",
      "metadata": {
        "id": "3d549583"
      },
      "outputs": [],
      "source": [
        "site= link + \"/wheel\"\n",
        "hdr = {'User-Agent': 'Mozilla/5.0 (Windows NT 6.1) AppleWebKit/537.36 (KHTML, like Gecko) Chrome/41.0.2228.0 Safari/537.36'}\n",
        "req = Request(site,headers=hdr)\n",
        "page = urlopen(req)\n",
        "soup = BeautifulSoup(page)"
      ]
    },
    {
      "cell_type": "code",
      "execution_count": null,
      "id": "c361c38d",
      "metadata": {
        "id": "c361c38d"
      },
      "outputs": [],
      "source": [
        "try:\n",
        "    ptt=soup.find(\"div\",class_=\"pagination\").ul\n",
        "    pages=ptt.find_all(\"li\")\n",
        "    for q in range(1,len(pages)-1):\n",
        "        if q==1:\n",
        "            site= site\n",
        "            hdr = {'User-Agent': 'Mozilla/5.0 (Windows NT 6.1) AppleWebKit/537.36 (KHTML, like Gecko) Chrome/41.0.2228.0 Safari/537.36'}\n",
        "            req = Request(site,headers=hdr)\n",
        "            page = urlopen(req)\n",
        "            soup = BeautifulSoup(page)\n",
        "            cars=soup.find('div',class_=\"gsc-ta-active gsc-ta-content\").ul\n",
        "            for i in cars:\n",
        "                j=i.find(\"div\",class_=\"contentspace\").find(\"p\",class_=\"contentheight\")\n",
        "                p=j.find(\"span\").text\n",
        "                Handling.append(p)\n",
        "        else:\n",
        "            site=site\n",
        "            site=site+'/'+str(q)\n",
        "            hdr = {'User-Agent': 'Mozilla/5.0 (Windows NT 6.1) AppleWebKit/537.36 (KHTML, like Gecko) Chrome/41.0.2228.0 Safari/537.36'}\n",
        "            req = Request(site,headers=hdr)\n",
        "            page = urlopen(req)\n",
        "            soup = BeautifulSoup(page)\n",
        "            cars=soup.find('div',class_=\"gsc-ta-active gsc-ta-content\").ul\n",
        "            for i in cars:\n",
        "                j=i.find(\"div\",class_=\"contentspace\").find(\"p\",class_=\"contentheight\")\n",
        "                p=j.find(\"span\").text\n",
        "                Handling.append(p)\n",
        "except:\n",
        "    try:\n",
        "        site= site\n",
        "        hdr = {'User-Agent': 'Mozilla/5.0 (Windows NT 6.1) AppleWebKit/537.36 (KHTML, like Gecko) Chrome/41.0.2228.0 Safari/537.36'}\n",
        "        req = Request(site,headers=hdr)\n",
        "        page = urlopen(req)\n",
        "        soup = BeautifulSoup(page)\n",
        "        cars=soup.find('div',class_=\"gsc-ta-active gsc-ta-content\").ul\n",
        "        for i in cars:\n",
        "            j=i.find(\"div\",class_=\"contentspace\").find(\"p\",class_=\"contentheight\")\n",
        "            p=j.find(\"span\").text\n",
        "            Handling.append(p)\n",
        "    except:\n",
        "        print()"
      ]
    },
    {
      "cell_type": "code",
      "execution_count": null,
      "id": "649febaf",
      "metadata": {
        "id": "649febaf"
      },
      "outputs": [],
      "source": [
        "len(Handling)"
      ]
    },
    {
      "cell_type": "code",
      "execution_count": null,
      "id": "20e4b547",
      "metadata": {
        "id": "20e4b547"
      },
      "outputs": [],
      "source": [
        "site= link + \"/suspension\"\n",
        "hdr = {'User-Agent': 'Mozilla/5.0 (Windows NT 6.1) AppleWebKit/537.36 (KHTML, like Gecko) Chrome/41.0.2228.0 Safari/537.36'}\n",
        "req = Request(site,headers=hdr)\n",
        "page = urlopen(req)\n",
        "soup = BeautifulSoup(page)"
      ]
    },
    {
      "cell_type": "code",
      "execution_count": null,
      "id": "b37feec3",
      "metadata": {
        "id": "b37feec3"
      },
      "outputs": [],
      "source": [
        "try:\n",
        "    ptt=soup.find(\"div\",class_=\"pagination\").ul\n",
        "    pages=ptt.find_all(\"li\")\n",
        "    for q in range(1,len(pages)-1):\n",
        "        if q==1:\n",
        "            site= site\n",
        "            hdr = {'User-Agent': 'Mozilla/5.0 (Windows NT 6.1) AppleWebKit/537.36 (KHTML, like Gecko) Chrome/41.0.2228.0 Safari/537.36'}\n",
        "            req = Request(site,headers=hdr)\n",
        "            page = urlopen(req)\n",
        "            soup = BeautifulSoup(page)\n",
        "            cars=soup.find('div',class_=\"gsc-ta-active gsc-ta-content\").ul\n",
        "            for i in cars:\n",
        "                j=i.find(\"div\",class_=\"contentspace\").find(\"p\",class_=\"contentheight\")\n",
        "                p=j.find(\"span\").text\n",
        "                Handling.append(p)\n",
        "        else:\n",
        "            site=site\n",
        "            site=site+'/'+str(q)\n",
        "            hdr = {'User-Agent': 'Mozilla/5.0 (Windows NT 6.1) AppleWebKit/537.36 (KHTML, like Gecko) Chrome/41.0.2228.0 Safari/537.36'}\n",
        "            req = Request(site,headers=hdr)\n",
        "            page = urlopen(req)\n",
        "            soup = BeautifulSoup(page)\n",
        "            cars=soup.find('div',class_=\"gsc-ta-active gsc-ta-content\").ul\n",
        "            for i in cars:\n",
        "                j=i.find(\"div\",class_=\"contentspace\").find(\"p\",class_=\"contentheight\")\n",
        "                p=j.find(\"span\").text\n",
        "                Handling.append(p)\n",
        "except:\n",
        "    try:\n",
        "        site= site\n",
        "        hdr = {'User-Agent': 'Mozilla/5.0 (Windows NT 6.1) AppleWebKit/537.36 (KHTML, like Gecko) Chrome/41.0.2228.0 Safari/537.36'}\n",
        "        req = Request(site,headers=hdr)\n",
        "        page = urlopen(req)\n",
        "        soup = BeautifulSoup(page)\n",
        "        cars=soup.find('div',class_=\"gsc-ta-active gsc-ta-content\").ul\n",
        "        Off_road=[]\n",
        "        Max=[]\n",
        "        for i in cars:\n",
        "            j=i.find(\"div\",class_=\"contentspace\").find(\"p\",class_=\"contentheight\")\n",
        "            p=j.find(\"span\").text\n",
        "            Handling.append(p)\n",
        "    except:\n",
        "        print()"
      ]
    },
    {
      "cell_type": "code",
      "execution_count": null,
      "id": "ab2643b2",
      "metadata": {
        "id": "ab2643b2"
      },
      "outputs": [],
      "source": [
        "len(Handling)"
      ]
    },
    {
      "cell_type": "code",
      "execution_count": null,
      "id": "7752e521",
      "metadata": {
        "id": "7752e521"
      },
      "outputs": [],
      "source": [
        "site= link1 + \"/suspension\"\n",
        "hdr = {'User-Agent': 'Mozilla/5.0 (Windows NT 6.1) AppleWebKit/537.36 (KHTML, like Gecko) Chrome/41.0.2228.0 Safari/537.36'}\n",
        "req = Request(site,headers=hdr)\n",
        "page = urlopen(req)\n",
        "soup = BeautifulSoup(page)\n",
        "try:\n",
        "    sec=soup.find('div',class_='pt-15').ul\n",
        "    list1=sec.find_all('li')\n",
        "    t=list1[1].text.strip(\"\\n\")[:-3]\n",
        "    if re.search(\"Suspension\",t):\n",
        "        sec=soup.find('div',class_='f-rvm').find_all(\"div\",class_=\"ncmt-c\")\n",
        "        for reviews in sec:\n",
        "            review=reviews.find(\"p\").text\n",
        "            Handling.append(review)\n",
        "except:\n",
        "    print()"
      ]
    },
    {
      "cell_type": "code",
      "execution_count": null,
      "id": "7a402a84",
      "metadata": {
        "id": "7a402a84"
      },
      "outputs": [],
      "source": [
        "len(Handling)"
      ]
    },
    {
      "cell_type": "code",
      "execution_count": null,
      "id": "5fe59e74",
      "metadata": {
        "id": "5fe59e74"
      },
      "outputs": [],
      "source": [
        "site= link1 + \"/wheel\"\n",
        "hdr = {'User-Agent': 'Mozilla/5.0 (Windows NT 6.1) AppleWebKit/537.36 (KHTML, like Gecko) Chrome/41.0.2228.0 Safari/537.36'}\n",
        "req = Request(site,headers=hdr)\n",
        "page = urlopen(req)\n",
        "soup = BeautifulSoup(page)\n",
        "try:\n",
        "    sec=soup.find('div',class_='pt-15').ul\n",
        "    list1=sec.find_all('li')\n",
        "    t=list1[1].text.strip(\"\\n\")[:-3]\n",
        "    if re.search(\"Wheel\",t):\n",
        "        sec=soup.find('div',class_='f-rvm').find_all(\"div\",class_=\"ncmt-c\")\n",
        "        for reviews in sec:\n",
        "            review=reviews.find(\"p\").text\n",
        "            Handling.append(review)\n",
        "except:\n",
        "    print()"
      ]
    },
    {
      "cell_type": "code",
      "execution_count": null,
      "id": "8be238a1",
      "metadata": {
        "id": "8be238a1"
      },
      "outputs": [],
      "source": [
        "len(Handling)"
      ]
    },
    {
      "cell_type": "code",
      "execution_count": null,
      "id": "761c7b64",
      "metadata": {
        "id": "761c7b64"
      },
      "outputs": [],
      "source": [
        "site= link1 + \"/tyres\"\n",
        "hdr = {'User-Agent': 'Mozilla/5.0 (Windows NT 6.1) AppleWebKit/537.36 (KHTML, like Gecko) Chrome/41.0.2228.0 Safari/537.36'}\n",
        "req = Request(site,headers=hdr)\n",
        "page = urlopen(req)\n",
        "soup = BeautifulSoup(page)\n",
        "try:\n",
        "    sec=soup.find('div',class_='pt-15').ul\n",
        "    list1=sec.find_all('li')\n",
        "    t=list1[1].text.strip(\"\\n\")[:-3]\n",
        "    if re.search(\"Tyres\",t):\n",
        "        sec=soup.find('div',class_='f-rvm').find_all(\"div\",class_=\"ncmt-c\")\n",
        "        for reviews in sec:\n",
        "            review=reviews.find(\"p\").text\n",
        "            Handling.append(review)\n",
        "except:\n",
        "    print()"
      ]
    },
    {
      "cell_type": "code",
      "execution_count": null,
      "id": "7a2946f5",
      "metadata": {
        "id": "7a2946f5"
      },
      "outputs": [],
      "source": [
        "site= link2+\".html\"\n",
        "hdr = {'User-Agent': 'Mozilla/5.0 (Windows NT 6.1) AppleWebKit/537.36 (KHTML, like Gecko) Chrome/41.0.2228.0 Safari/537.36'}\n",
        "req = Request(site,headers=hdr)\n",
        "page = urlopen(req)\n",
        "soup = BeautifulSoup(page)\n",
        "ptt=soup.find('td',class_=\"vbmenu_control mod2022-radius-tl mod2022-radius-bl mod2022-pagenav-in-words\")\n",
        "list5=(ptt.text).split(\" \")\n",
        "p=int(list5[-1])"
      ]
    },
    {
      "cell_type": "code",
      "execution_count": null,
      "id": "050fc7c9",
      "metadata": {
        "id": "050fc7c9"
      },
      "outputs": [],
      "source": [
        "Range1=[]\n",
        "Safety1=[]\n",
        "Performance1=[]\n",
        "comfort1=[]\n",
        "Off_road1=[]\n",
        "Streering1=[]\n",
        "Ride1=[]\n",
        "Noice1=[]\n",
        "Vis1=[]\n",
        "Braking1=[]\n",
        "Feature1=[]\n",
        "Handling1=[]\n",
        "for q in range(1,p+1):\n",
        "    if q==1:\n",
        "        site= link2 +\".html\"\n",
        "        hdr = {'User-Agent': 'Mozilla/5.0 (Windows NT 6.1) AppleWebKit/537.36 (KHTML, like Gecko) Chrome/41.0.2228.0 Safari/537.36'}\n",
        "        req = Request(site,headers=hdr)\n",
        "        page = urlopen(req)\n",
        "        soup = BeautifulSoup(page)\n",
        "        ptt=soup.find_all('div',style=\"margin: 0 auto\")\n",
        "        for i in ptt:\n",
        "            list1=[]\n",
        "            alt=i.find_all('td',class_=\"alt1\")\n",
        "            for l in alt:\n",
        "                se=l.find_all('div')\n",
        "                #print(se)\n",
        "                if len(se)>1 and re.search(\"post_message\",str(se)):\n",
        "                    for i in se:\n",
        "                        string=\"\"\n",
        "                        for j in i:\n",
        "                            if (re.search(\"Originally Posted by\",str(j))) or (re.search(\"<strong>\",str(j))) or (re.search(\"Last edited\",str(j))):\n",
        "                                continue\n",
        "                            else:\n",
        "                                string=string + str(j.text)\n",
        "                        list1.append(string)\n",
        "            for i in list1:\n",
        "                k=i.split(\".\")\n",
        "                for j in k:\n",
        "                    if (re.search(\"Milage\",str(j))) or (re.search(\"milage\",str(j))) or (re.search(\"Range\",str(j))) or (re.search(\"km\",j)) or (re.search(\"KM\",j)) or (re.search(\"Km\",j)) or (re.search(\"range\",str(j))):\n",
        "                        j=j.strip(\" \\r\\n\\t\")\n",
        "                        Range1.append(j)\n",
        "                        Range1=list(set(Range1))\n",
        "                    if (re.search(\"Safe\",str(j))) or (re.search(\"safe\",str(j))) or (re.search(\"Airbag\",str(j))) or (re.search(\"airbag\",j)) or (re.search(\"seat belt\",j)) or (re.search(\"Seat belt\",j)):\n",
        "                        j=j.strip(\" \\r\\n\\t\")\n",
        "                        Safety1.append(j)\n",
        "                        Safety1=list(set(Safety1))\n",
        "                    if (re.search(\"Performance\",str(j))) or (re.search(\"performance\",str(j))) or (re.search(\"Engine\",str(j))) or (re.search(\"engine\",j)):\n",
        "                        j=j.strip(\" \\r\\n\\t\")\n",
        "                        Performance1.append(j)\n",
        "                        Performance1=list(set(Performance1))\n",
        "                    if (re.search(\"Seat\",str(j))) or (re.search(\"seat\",str(j))) or (re.search(\"Space\",str(j))) or (re.search(\"space\",j)) or (re.search(\"AC\",str(j))) or (re.search(\"ac\",str(j))) or (re.search(\"air conditioner\",str(j))) or (re.search(\"comfort\",str(j))) or (re.search(\"Comfort\",str(j))):\n",
        "                        j=j.strip(\" \\r\\n\\t\")\n",
        "                        comfort1.append(j)\n",
        "                        comfort1=list(set(comfort1))\n",
        "                    if (re.search(\"Suspension\",str(j))) or (re.search(\"suspension\",str(j))) or (re.search(\"clearance\",str(j))) or (re.search(\"Clearance\",str(j))) or (re.search(\"power\",str(j))) or (re.search(\"Power\",str(j))) or (re.search(\"Torque\",j)) or (re.search(\"torque\",str(j))) or (re.search(\"Off road\",str(j))) or (re.search(\"off road\",str(j))):\n",
        "                        j=j.strip(\" \\r\\n\\t\")\n",
        "                        Off_road1.append(j)\n",
        "                        Off_road1=list(set(Off_road1))\n",
        "                    if (re.search(\"Streering\",str(j))) or (re.search(\"streering\",str(j))):\n",
        "                        j=j.strip(\" \\r\\n\\t\")\n",
        "                        Streering1.append(j)\n",
        "                        Streering1=list(set(Streering1))\n",
        "                    if (re.search(\"Drive\",str(j))) or (re.search(\"drive\",str(j))) or (re.search(\"experience\",str(j))) or (re.search(\"Experience\",str(j))):\n",
        "                        j=j.strip(\" \\r\\n\\t\")\n",
        "                        Ride1=Streering1.copy()\n",
        "                        Ride1.append(j)\n",
        "                        Ride1=list(set(Ride1))\n",
        "                    if (re.search(\"noise\",str(j))) or (re.search(\"Noise\",str(j))):\n",
        "                        j=j.strip(\" \\r\\n\\t\")\n",
        "                        Noice1.append(j)\n",
        "                        Noice1=list(set(Noice1))\n",
        "                    if (re.search(\"headlamp\",str(j))) or (re.search(\"Headlamp\",str(j))) or (re.search(\"light\",str(j))) or (re.search(\"Light\",str(j))) or (re.search(\"Head light\",str(j))) or (re.search(\"head light\",str(j))) or (re.search(\"Visibility\",str(j))) or (re.search(\"Visibility\",str(j))):\n",
        "                        j=j.strip(\" \\r\\n\\t\")\n",
        "                        Vis1.append(j)\n",
        "                        Vis1=list(set(Vis1))\n",
        "                    if (re.search(\"Braking\",str(j))) or (re.search(\"braking\",str(j))) or(re.search(\"Brake\",str(j))) or (re.search(\"brake\",str(j))):\n",
        "                        j=j.strip(\" \\r\\n\\t\")\n",
        "                        Braking1.append(j)\n",
        "                        Braking1=list(set(Braking1))\n",
        "                    if (re.search(\"infotainment\",str(j))) or (re.search(\"Infotainment\",str(j))) or (re.search(\"sensors\",str(j))) or (re.search(\"Sensors\",str(j))) or (re.search(\"touch\",str(j))) or (re.search(\"Touch\",str(j))) or (re.search(\"Software\",str(j))) or (re.search(\"software\",str(j))):\n",
        "                        j=j.strip(\" \\r\\n\\t\")\n",
        "                        Feature1.append(j)\n",
        "                        Feature1=list(set(Feature1))\n",
        "                    if (re.search(\"Suspension\",str(j))) or (re.search(\"suspension\",str(j))) or (re.search(\"Wheel\",str(j))) or (re.search(\"wheel\",str(j))) or (re.search(\"Tyres\",str(j))) or (re.search(\"tyres\",str(j))):\n",
        "                        j=j.strip(\" \\r\\n\\t\")\n",
        "                        Handling1=Streering1.copy()\n",
        "                        Handling1.append(j)\n",
        "                        Handling1=list(set(Handling1))\n",
        "\n",
        "    else:\n",
        "        site=link2+\"-\"\n",
        "        site=site+str(q)+\".html\"\n",
        "        hdr = {'User-Agent': 'Mozilla/5.0'}\n",
        "        req = Request(site,headers=hdr)\n",
        "        page = urlopen(req)\n",
        "        soup = BeautifulSoup(page)\n",
        "        ptt=soup.find_all('div',style=\"margin: 0 auto\")\n",
        "        for i in ptt:\n",
        "            list1=[]\n",
        "            alt=i.find_all('td',class_=\"alt1\")\n",
        "            for k in alt:\n",
        "                se=k.find_all('div')\n",
        "                #print(se)\n",
        "                if len(se)>1 and re.search(\"post_message\",str(se)):\n",
        "                    for r in se:\n",
        "                        string=\"\"\n",
        "                        for j in r:\n",
        "                            if (re.search(\"Originally Posted by\",str(j))) or (re.search(\"<strong>\",str(j))) or (re.search(\"Last edited\",str(j))) or (re.search(\"Quote:\",str(j))) or (re.search(\"https:\",str(j))):\n",
        "                                continue\n",
        "                            else:\n",
        "                                string=string + str(j.text)\n",
        "                        list1.append(string)\n",
        "            for i in list1:\n",
        "                k=i.split(\".\")\n",
        "                for j in k:\n",
        "                    if (re.search(\"Milage\",str(j))) or (re.search(\"milage\",str(j))) or (re.search(\"Range\",str(j))) or (re.search(\"km\",j)) or (re.search(\"KM\",j)) or (re.search(\"Km\",j)) or (re.search(\"range\",str(j))):\n",
        "                        j=j.strip(\" \\r\\n\\t\")\n",
        "                        Range1.append(j)\n",
        "                        Range1=list(set(Range1))\n",
        "                    if (re.search(\"Safe\",str(j))) or (re.search(\"safe\",str(j))) or (re.search(\"Airbag\",str(j))) or (re.search(\"airbag\",j)) or (re.search(\"seat belt\",j)) or (re.search(\"Seat belt\",j)):\n",
        "                        j=j.strip(\" \\r\\n\\t\")\n",
        "                        Safety1.append(j)\n",
        "                        Safety1=list(set(Safety1))\n",
        "                    if (re.search(\"Performance\",str(j))) or (re.search(\"performance\",str(j))) or (re.search(\"Engine\",str(j))) or (re.search(\"engine\",j)):\n",
        "                        j=j.strip(\" \\r\\n\\t\")\n",
        "                        Performance1.append(j)\n",
        "                        Performance1=list(set(Performance1))\n",
        "                    if (re.search(\"Seat\",str(j))) or (re.search(\"seat\",str(j))) or (re.search(\"Space\",str(j))) or (re.search(\"space\",j)) or (re.search(\"AC\",str(j))) or (re.search(\"ac\",str(j))) or (re.search(\"air conditioner\",str(j))) or (re.search(\"comfort\",str(j))) or (re.search(\"Comfort\",str(j))):\n",
        "                        j=j.strip(\" \\r\\n\\t\")\n",
        "                        comfort1.append(j)\n",
        "                        comfort1=list(set(comfort1))\n",
        "                    if (re.search(\"Suspension\",str(j))) or (re.search(\"suspension\",str(j))) or (re.search(\"clearance\",str(j))) or (re.search(\"Clearance\",str(j))) or (re.search(\"power\",str(j))) or (re.search(\"Power\",str(j))) or (re.search(\"Torque\",j)) or (re.search(\"torque\",str(j))) or (re.search(\"Off road\",str(j))) or (re.search(\"off road\",str(j))):\n",
        "                        j=j.strip(\" \\r\\n\\t\")\n",
        "                        Off_road1.append(j)\n",
        "                        Off_road1=list(set(Off_road1))\n",
        "                    if (re.search(\"Streering\",str(j))) or (re.search(\"streering\",str(j))):\n",
        "                        j=j.strip(\" \\r\\n\\t\")\n",
        "                        Streering1.append(j)\n",
        "                        Streering1=list(set(Streering1))\n",
        "                    if (re.search(\"Drive\",str(j))) or (re.search(\"drive\",str(j))) or (re.search(\"experience\",str(j))) or (re.search(\"Experience\",str(j))):\n",
        "                        j=j.strip(\" \\r\\n\\t\")\n",
        "                        Ride1=Streering1.copy()\n",
        "                        Ride1.append(j)\n",
        "                        Ride1=list(set(Ride1))\n",
        "                    if (re.search(\"noise\",str(j))) or (re.search(\"Noise\",str(j))):\n",
        "                        j=j.strip(\" \\r\\n\\t\")\n",
        "                        Noice1.append(j)\n",
        "                        Noice1=list(set(Noice1))\n",
        "                    if (re.search(\"headlamp\",str(j))) or (re.search(\"Headlamp\",str(j))) or (re.search(\"light\",str(j))) or (re.search(\"Light\",str(j))) or (re.search(\"Head light\",str(j))) or (re.search(\"head light\",str(j))) or (re.search(\"Visibility\",str(j))) or (re.search(\"Visibility\",str(j))):\n",
        "                        j=j.strip(\" \\r\\n\\t\")\n",
        "                        Vis1.append(j)\n",
        "                        Vis1=list(set(Vis1))\n",
        "                    if (re.search(\"Braking\",str(j))) or (re.search(\"braking\",str(j))) or(re.search(\"Brake\",str(j))) or (re.search(\"brake\",str(j))):\n",
        "                        j=j.strip(\" \\r\\n\\t\")\n",
        "                        Braking1=list(set(Braking1))\n",
        "                    if (re.search(\"infotainment\",str(j))) or (re.search(\"Infotainment\",str(j))) or (re.search(\"sensors\",str(j))) or (re.search(\"Sensors\",str(j))) or (re.search(\"touch\",str(j))) or (re.search(\"Touch\",str(j))) or (re.search(\"Software\",str(j))) or (re.search(\"software\",str(j))):\n",
        "                        j=j.strip(\" \\r\\n\\t\")\n",
        "                        Feature1.append(j)\n",
        "                        Feature1=list(set(Feature1))\n",
        "                    if (re.search(\"Suspension\",str(j))) or (re.search(\"suspension\",str(j))) or (re.search(\"Wheel\",str(j))) or (re.search(\"wheel\",str(j))) or (re.search(\"Tyres\",str(j))) or (re.search(\"tyres\",str(j))):\n",
        "                        j=j.strip(\" \\r\\n\\t\")\n",
        "                        Handling1=Streering1.copy()\n",
        "                        Handling1.append(j)\n",
        "                        Handling1=list(set(Handling1))"
      ]
    },
    {
      "cell_type": "code",
      "execution_count": null,
      "id": "8d8a5e44",
      "metadata": {
        "id": "8d8a5e44"
      },
      "outputs": [],
      "source": [
        "len(Range1)"
      ]
    },
    {
      "cell_type": "code",
      "execution_count": null,
      "id": "3544d900",
      "metadata": {
        "id": "3544d900"
      },
      "outputs": [],
      "source": [
        "Range=Range+Range1\n",
        "Safety=Safety+Safety1\n",
        "Feature=Feature+Feature1\n",
        "Braking=Braking+Braking1\n",
        "Vis=Vis+Vis1\n",
        "Noice=Noice+Noice1\n",
        "Ride=Ride+Ride1\n",
        "Streering=Streering+Streering1\n",
        "Off_road=Off_road+Off_road1\n",
        "comfort=comfort+comfort1\n",
        "Performance=Performance+Performance1\n",
        "Handling=Handling+Handling1"
      ]
    },
    {
      "cell_type": "code",
      "execution_count": null,
      "id": "7f33b989",
      "metadata": {
        "id": "7f33b989"
      },
      "outputs": [],
      "source": [
        "from transformers import AutoTokenizer\n",
        "from transformers import AutoModelForSequenceClassification\n",
        "from scipy.special import softmax"
      ]
    },
    {
      "cell_type": "code",
      "execution_count": null,
      "id": "6e81e874",
      "metadata": {
        "id": "6e81e874"
      },
      "outputs": [],
      "source": [
        "# Transformer with Roberta model is used to find the sentiment of the review\n",
        "MODEL= f\"cardiffnlp/twitter-roberta-base-sentiment\"\n",
        "tokenizer = AutoTokenizer.from_pretrained(MODEL)\n",
        "model = AutoModelForSequenceClassification.from_pretrained(MODEL)"
      ]
    },
    {
      "cell_type": "code",
      "execution_count": null,
      "id": "544b0579",
      "metadata": {
        "id": "544b0579"
      },
      "outputs": [],
      "source": [
        "def scores(li):\n",
        "    list1=[]\n",
        "    list2=[]\n",
        "    for i in li:\n",
        "        encorded=tokenizer(i,return_tensors='pt')\n",
        "        output=model(**encorded)\n",
        "        score=output[0][0].detach().numpy()\n",
        "        score= softmax(score)\n",
        "        list1.append(score[2])\n",
        "        list2.append(score[1])\n",
        "    value=(sum(list1)+sum(list2))/len(list1)\n",
        "    values=(round(value,2))\n",
        "    return(values)"
      ]
    },
    {
      "cell_type": "code",
      "execution_count": null,
      "id": "ba2f10d4",
      "metadata": {
        "id": "ba2f10d4"
      },
      "outputs": [],
      "source": [
        "if len(Range)==0:\n",
        "    Safety='NaN'\n",
        "else:\n",
        "    Range=scores(Range)"
      ]
    },
    {
      "cell_type": "code",
      "execution_count": null,
      "id": "4ab0f333",
      "metadata": {
        "id": "4ab0f333"
      },
      "outputs": [],
      "source": [
        "if len(Safety)==0:\n",
        "    Safety='NaN'\n",
        "else:\n",
        "    Safety=scores(Safety)"
      ]
    },
    {
      "cell_type": "code",
      "execution_count": null,
      "id": "b4251bcf",
      "metadata": {
        "id": "b4251bcf"
      },
      "outputs": [],
      "source": [
        "if len(Feature)==0:\n",
        "    Feature='NaN'\n",
        "else:\n",
        "    Feature=scores(Feature)"
      ]
    },
    {
      "cell_type": "code",
      "execution_count": null,
      "id": "ef03ff0b",
      "metadata": {
        "id": "ef03ff0b"
      },
      "outputs": [],
      "source": [
        "if len(Braking)==0:\n",
        "    Braking='NaN'\n",
        "else:\n",
        "    Braking=scores(Braking)"
      ]
    },
    {
      "cell_type": "code",
      "execution_count": null,
      "id": "5f963047",
      "metadata": {
        "id": "5f963047"
      },
      "outputs": [],
      "source": [
        "if len(Vis)==0:\n",
        "    Vis='NaN'\n",
        "else:\n",
        "    Vis=scores(Vis)"
      ]
    },
    {
      "cell_type": "code",
      "execution_count": null,
      "id": "e286282e",
      "metadata": {
        "id": "e286282e"
      },
      "outputs": [],
      "source": [
        "if len(Noice)==0:\n",
        "    Noice='NaN'\n",
        "else:\n",
        "    Noice=scores(Noice)"
      ]
    },
    {
      "cell_type": "code",
      "execution_count": null,
      "id": "8ffd5fd9",
      "metadata": {
        "id": "8ffd5fd9"
      },
      "outputs": [],
      "source": [
        "if len(Ride)==0:\n",
        "    Ride='NaN'\n",
        "else:\n",
        "    Ride=scores(Ride)"
      ]
    },
    {
      "cell_type": "code",
      "execution_count": null,
      "id": "8c2daefa",
      "metadata": {
        "id": "8c2daefa"
      },
      "outputs": [],
      "source": [
        "if len(Streering)==0:\n",
        "    Streering='NaN'\n",
        "else:\n",
        "    Streering=scores(Streering)"
      ]
    },
    {
      "cell_type": "code",
      "execution_count": null,
      "id": "76bfd1d3",
      "metadata": {
        "id": "76bfd1d3"
      },
      "outputs": [],
      "source": [
        "if len(Off_road)==0:\n",
        "    Off_road='NaN'\n",
        "else:\n",
        "    Off_road=scores(Off_road)"
      ]
    },
    {
      "cell_type": "code",
      "execution_count": null,
      "id": "12cebd5f",
      "metadata": {
        "id": "12cebd5f"
      },
      "outputs": [],
      "source": [
        "if len(comfort)==0:\n",
        "    comfort='NaN'\n",
        "else:\n",
        "    comfort=scores(comfort)"
      ]
    },
    {
      "cell_type": "code",
      "execution_count": null,
      "id": "bed97837",
      "metadata": {
        "id": "bed97837"
      },
      "outputs": [],
      "source": [
        "if len(Performance)==0:\n",
        "    Performance='NaN'\n",
        "else:\n",
        "    Performance=scores(Performance)"
      ]
    },
    {
      "cell_type": "code",
      "execution_count": null,
      "id": "8301e141",
      "metadata": {
        "id": "8301e141"
      },
      "outputs": [],
      "source": [
        "if len(Handling)==0:\n",
        "    Handling='NaN'\n",
        "else:\n",
        "    Handling=scores(Handling)"
      ]
    },
    {
      "cell_type": "code",
      "execution_count": null,
      "id": "e4d0d57a",
      "metadata": {
        "id": "e4d0d57a"
      },
      "outputs": [],
      "source": [
        "Handling"
      ]
    },
    {
      "cell_type": "code",
      "execution_count": null,
      "id": "6701d988",
      "metadata": {
        "id": "6701d988"
      },
      "outputs": [],
      "source": [
        "Performance"
      ]
    },
    {
      "cell_type": "code",
      "execution_count": null,
      "id": "53295d11",
      "metadata": {
        "id": "53295d11"
      },
      "outputs": [],
      "source": [
        "comfort"
      ]
    },
    {
      "cell_type": "code",
      "execution_count": null,
      "id": "06d703a0",
      "metadata": {
        "id": "06d703a0"
      },
      "outputs": [],
      "source": [
        "Off_road"
      ]
    },
    {
      "cell_type": "code",
      "execution_count": null,
      "id": "25f674c6",
      "metadata": {
        "id": "25f674c6"
      },
      "outputs": [],
      "source": [
        "Streering"
      ]
    },
    {
      "cell_type": "code",
      "execution_count": null,
      "id": "3a899a34",
      "metadata": {
        "id": "3a899a34"
      },
      "outputs": [],
      "source": [
        "Ride"
      ]
    },
    {
      "cell_type": "code",
      "execution_count": null,
      "id": "33bcd403",
      "metadata": {
        "id": "33bcd403"
      },
      "outputs": [],
      "source": [
        "Noice"
      ]
    },
    {
      "cell_type": "code",
      "execution_count": null,
      "id": "a48ad45a",
      "metadata": {
        "id": "a48ad45a"
      },
      "outputs": [],
      "source": [
        "Vis"
      ]
    },
    {
      "cell_type": "code",
      "execution_count": null,
      "id": "01627fa7",
      "metadata": {
        "id": "01627fa7"
      },
      "outputs": [],
      "source": [
        "Range"
      ]
    },
    {
      "cell_type": "code",
      "execution_count": null,
      "id": "832a0b3a",
      "metadata": {
        "id": "832a0b3a"
      },
      "outputs": [],
      "source": [
        "Braking"
      ]
    },
    {
      "cell_type": "code",
      "execution_count": null,
      "id": "4ae87256",
      "metadata": {
        "id": "4ae87256"
      },
      "outputs": [],
      "source": [
        "Feature"
      ]
    },
    {
      "cell_type": "code",
      "execution_count": null,
      "id": "fbff8136",
      "metadata": {
        "scrolled": true,
        "id": "fbff8136"
      },
      "outputs": [],
      "source": [
        "Safety"
      ]
    }
  ],
  "metadata": {
    "kernelspec": {
      "display_name": "Python 3 (ipykernel)",
      "language": "python",
      "name": "python3"
    },
    "language_info": {
      "codemirror_mode": {
        "name": "ipython",
        "version": 3
      },
      "file_extension": ".py",
      "mimetype": "text/x-python",
      "name": "python",
      "nbconvert_exporter": "python",
      "pygments_lexer": "ipython3",
      "version": "3.9.12"
    },
    "colab": {
      "provenance": []
    }
  },
  "nbformat": 4,
  "nbformat_minor": 5
}